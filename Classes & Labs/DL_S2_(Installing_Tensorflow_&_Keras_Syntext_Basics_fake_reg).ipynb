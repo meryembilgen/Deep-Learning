{
 "cells": [
  {
   "cell_type": "markdown",
   "metadata": {
    "id": "yQGQcaYcYF_5"
   },
   "source": [
    "___\n",
    "\n",
    "<p style=\"text-align: center;\"><img src=\"https://docs.google.com/uc?id=1lY0Uj5R04yMY3-ZppPWxqCr5pvBLYPnV\" class=\"img-fluid\" alt=\"CLRSWY\"></p>\n",
    "\n",
    "___"
   ]
  },
  {
   "cell_type": "markdown",
   "metadata": {
    "id": "bV_OY9eBYF_7"
   },
   "source": [
    "<h1 style=\"text-align: center;\">Deep Learning<br><br>Session - 2<br><br>Installing Tensorflow & Keras Syntax Basics<br><br>Fake Reg<br><h1>"
   ]
  },
  {
   "cell_type": "markdown",
   "metadata": {
    "id": "AVMFCWTuYF_7"
   },
   "source": [
    "# Installing Tensorflow"
   ]
  },
  {
   "cell_type": "code",
   "execution_count": 1,
   "metadata": {
    "id": "XoN32SvMYF_-",
    "scrolled": false
   },
   "outputs": [],
   "source": [
    "# !pip install tensorflow"
   ]
  },
  {
   "cell_type": "code",
   "execution_count": 2,
   "metadata": {},
   "outputs": [],
   "source": [
    "# conda install tensorflow"
   ]
  },
  {
   "cell_type": "code",
   "execution_count": 3,
   "metadata": {
    "colab": {
     "base_uri": "https://localhost:8080/",
     "height": 35
    },
    "id": "PJmTZvrkYF_-",
    "outputId": "e8f45c40-96c7-41bf-c71f-a5e22b926927"
   },
   "outputs": [
    {
     "name": "stderr",
     "output_type": "stream",
     "text": [
      "C:\\Users\\Dell\\anaconda3\\lib\\site-packages\\numpy\\_distributor_init.py:30: UserWarning: loaded more than 1 DLL from .libs:\n",
      "C:\\Users\\Dell\\anaconda3\\lib\\site-packages\\numpy\\.libs\\libopenblas.EL2C6PLE4ZYW3ECEVIV3OXXGRN2NRFM2.gfortran-win_amd64.dll\n",
      "C:\\Users\\Dell\\anaconda3\\lib\\site-packages\\numpy\\.libs\\libopenblas.GK7GX5KEQ4F6UYO3P26ULGBQYHGQO7J4.gfortran-win_amd64.dll\n",
      "  warnings.warn(\"loaded more than 1 DLL from .libs:\"\n"
     ]
    },
    {
     "data": {
      "text/plain": [
       "'2.9.1'"
      ]
     },
     "execution_count": 3,
     "metadata": {},
     "output_type": "execute_result"
    }
   ],
   "source": [
    "import tensorflow as tf\n",
    "tf.__version__\n",
    "# Google, TensorFlow'u sürekli olarak güncelleştirir ve yeni versionlar yayınlar."
   ]
  },
  {
   "cell_type": "markdown",
   "metadata": {
    "id": "ID58GLICYF__"
   },
   "source": [
    "# Keras Syntax Basics"
   ]
  },
  {
   "cell_type": "code",
   "execution_count": 4,
   "metadata": {
    "id": "ltaJwcuGYF__"
   },
   "outputs": [],
   "source": [
    "import numpy as np\n",
    "import pandas as pd\n",
    "import matplotlib.pyplot as plt\n",
    "import seaborn as sns\n",
    "\n",
    "import warnings\n",
    "warnings.filterwarnings(\"ignore\")\n",
    "warnings.warn(\"this will not show\")\n",
    "\n",
    "plt.rcParams[\"figure.figsize\"] = (8,6)\n",
    "\n",
    "sns.set_style(\"whitegrid\")\n",
    "pd.set_option('display.float_format', lambda x: '%.3f' % x)\n",
    "\n",
    "# Set it None to display all rows in the dataframe\n",
    "# pd.set_option('display.max_rows', None)\n",
    "\n",
    "# Set it to None to display all columns in the dataframe\n",
    "pd.set_option('display.max_columns', None)"
   ]
  },
  {
   "cell_type": "code",
   "execution_count": 5,
   "metadata": {
    "colab": {
     "base_uri": "https://localhost:8080/"
    },
    "id": "_ZmgVPfxYGAA",
    "outputId": "c4b5c7f9-aa1d-4752-d331-cfed2ef3befb"
   },
   "outputs": [],
   "source": [
    "# from google.colab import drive\n",
    "# drive.mount('/content/drive')"
   ]
  },
  {
   "cell_type": "code",
   "execution_count": 6,
   "metadata": {
    "id": "GpeUB7FNYGAA"
   },
   "outputs": [],
   "source": [
    "# df = pd.read_csv(\"/content/drive/MyDrive/fake_reg.csv\")"
   ]
  },
  {
   "cell_type": "code",
   "execution_count": 7,
   "metadata": {},
   "outputs": [],
   "source": [
    "df = pd.read_csv(\"fake_reg.csv\")"
   ]
  },
  {
   "cell_type": "markdown",
   "metadata": {
    "id": "kLE5OOGyYGAC"
   },
   "source": [
    "## Exploratory Data Analysis and Visualization"
   ]
  },
  {
   "cell_type": "code",
   "execution_count": 8,
   "metadata": {
    "colab": {
     "base_uri": "https://localhost:8080/",
     "height": 206
    },
    "id": "CaLCY4fmYGAC",
    "outputId": "9727de59-b4e5-445c-fac4-a3aa891ca759"
   },
   "outputs": [
    {
     "data": {
      "text/html": [
       "<div>\n",
       "<style scoped>\n",
       "    .dataframe tbody tr th:only-of-type {\n",
       "        vertical-align: middle;\n",
       "    }\n",
       "\n",
       "    .dataframe tbody tr th {\n",
       "        vertical-align: top;\n",
       "    }\n",
       "\n",
       "    .dataframe thead th {\n",
       "        text-align: right;\n",
       "    }\n",
       "</style>\n",
       "<table border=\"1\" class=\"dataframe\">\n",
       "  <thead>\n",
       "    <tr style=\"text-align: right;\">\n",
       "      <th></th>\n",
       "      <th>price</th>\n",
       "      <th>feature1</th>\n",
       "      <th>feature2</th>\n",
       "    </tr>\n",
       "  </thead>\n",
       "  <tbody>\n",
       "    <tr>\n",
       "      <th>0</th>\n",
       "      <td>461.528</td>\n",
       "      <td>999.788</td>\n",
       "      <td>999.766</td>\n",
       "    </tr>\n",
       "    <tr>\n",
       "      <th>1</th>\n",
       "      <td>548.130</td>\n",
       "      <td>998.862</td>\n",
       "      <td>1001.042</td>\n",
       "    </tr>\n",
       "    <tr>\n",
       "      <th>2</th>\n",
       "      <td>410.297</td>\n",
       "      <td>1000.070</td>\n",
       "      <td>998.844</td>\n",
       "    </tr>\n",
       "    <tr>\n",
       "      <th>3</th>\n",
       "      <td>540.382</td>\n",
       "      <td>999.952</td>\n",
       "      <td>1000.441</td>\n",
       "    </tr>\n",
       "    <tr>\n",
       "      <th>4</th>\n",
       "      <td>546.025</td>\n",
       "      <td>1000.446</td>\n",
       "      <td>1000.339</td>\n",
       "    </tr>\n",
       "  </tbody>\n",
       "</table>\n",
       "</div>"
      ],
      "text/plain": [
       "    price  feature1  feature2\n",
       "0 461.528   999.788   999.766\n",
       "1 548.130   998.862  1001.042\n",
       "2 410.297  1000.070   998.844\n",
       "3 540.382   999.952  1000.441\n",
       "4 546.025  1000.446  1000.339"
      ]
     },
     "execution_count": 8,
     "metadata": {},
     "output_type": "execute_result"
    }
   ],
   "source": [
    "df.head()"
   ]
  },
  {
   "cell_type": "code",
   "execution_count": 9,
   "metadata": {
    "colab": {
     "base_uri": "https://localhost:8080/"
    },
    "id": "j5NcInMDYGAD",
    "outputId": "ee207e55-600a-4ce0-cff4-7f1b0c24fc66"
   },
   "outputs": [
    {
     "name": "stdout",
     "output_type": "stream",
     "text": [
      "<class 'pandas.core.frame.DataFrame'>\n",
      "RangeIndex: 1000 entries, 0 to 999\n",
      "Data columns (total 3 columns):\n",
      " #   Column    Non-Null Count  Dtype  \n",
      "---  ------    --------------  -----  \n",
      " 0   price     1000 non-null   float64\n",
      " 1   feature1  1000 non-null   float64\n",
      " 2   feature2  1000 non-null   float64\n",
      "dtypes: float64(3)\n",
      "memory usage: 23.6 KB\n"
     ]
    }
   ],
   "source": [
    "df.info()"
   ]
  },
  {
   "cell_type": "code",
   "execution_count": 10,
   "metadata": {
    "colab": {
     "base_uri": "https://localhost:8080/",
     "height": 143
    },
    "id": "Gy5QaohhYGAD",
    "outputId": "84d67569-9609-4722-8070-d67a013a881e"
   },
   "outputs": [
    {
     "data": {
      "text/html": [
       "<div>\n",
       "<style scoped>\n",
       "    .dataframe tbody tr th:only-of-type {\n",
       "        vertical-align: middle;\n",
       "    }\n",
       "\n",
       "    .dataframe tbody tr th {\n",
       "        vertical-align: top;\n",
       "    }\n",
       "\n",
       "    .dataframe thead th {\n",
       "        text-align: right;\n",
       "    }\n",
       "</style>\n",
       "<table border=\"1\" class=\"dataframe\">\n",
       "  <thead>\n",
       "    <tr style=\"text-align: right;\">\n",
       "      <th></th>\n",
       "      <th>count</th>\n",
       "      <th>mean</th>\n",
       "      <th>std</th>\n",
       "      <th>min</th>\n",
       "      <th>25%</th>\n",
       "      <th>50%</th>\n",
       "      <th>75%</th>\n",
       "      <th>max</th>\n",
       "    </tr>\n",
       "  </thead>\n",
       "  <tbody>\n",
       "    <tr>\n",
       "      <th>price</th>\n",
       "      <td>1000.000</td>\n",
       "      <td>498.673</td>\n",
       "      <td>93.785</td>\n",
       "      <td>223.347</td>\n",
       "      <td>433.026</td>\n",
       "      <td>502.382</td>\n",
       "      <td>564.922</td>\n",
       "      <td>774.408</td>\n",
       "    </tr>\n",
       "    <tr>\n",
       "      <th>feature1</th>\n",
       "      <td>1000.000</td>\n",
       "      <td>1000.014</td>\n",
       "      <td>0.974</td>\n",
       "      <td>997.058</td>\n",
       "      <td>999.332</td>\n",
       "      <td>1000.010</td>\n",
       "      <td>1000.638</td>\n",
       "      <td>1003.208</td>\n",
       "    </tr>\n",
       "    <tr>\n",
       "      <th>feature2</th>\n",
       "      <td>1000.000</td>\n",
       "      <td>999.980</td>\n",
       "      <td>0.948</td>\n",
       "      <td>996.996</td>\n",
       "      <td>999.316</td>\n",
       "      <td>1000.002</td>\n",
       "      <td>1000.645</td>\n",
       "      <td>1002.666</td>\n",
       "    </tr>\n",
       "  </tbody>\n",
       "</table>\n",
       "</div>"
      ],
      "text/plain": [
       "            count     mean    std     min     25%      50%      75%      max\n",
       "price    1000.000  498.673 93.785 223.347 433.026  502.382  564.922  774.408\n",
       "feature1 1000.000 1000.014  0.974 997.058 999.332 1000.010 1000.638 1003.208\n",
       "feature2 1000.000  999.980  0.948 996.996 999.316 1000.002 1000.645 1002.666"
      ]
     },
     "execution_count": 10,
     "metadata": {},
     "output_type": "execute_result"
    }
   ],
   "source": [
    "df.describe().T"
   ]
  },
  {
   "cell_type": "code",
   "execution_count": 11,
   "metadata": {
    "colab": {
     "base_uri": "https://localhost:8080/",
     "height": 550
    },
    "id": "-Ebw6uXDYGAE",
    "outputId": "abeb2252-208f-4691-ca83-d0ba5b51511a"
   },
   "outputs": [
    {
     "data": {
      "image/png": "[encoded data removed]",
      "text/plain": [
       "<Figure size 540x540 with 12 Axes>"
      ]
     },
     "metadata": {},
     "output_type": "display_data"
    }
   ],
   "source": [
    "sns.pairplot(df);"
   ]
  },
  {
   "cell_type": "code",
   "execution_count": 12,
   "metadata": {
    "colab": {
     "base_uri": "https://localhost:8080/",
     "height": 143
    },
    "id": "R-MKjPmNYGAE",
    "outputId": "da15efd0-0de9-4adb-c108-d6c16737de1a"
   },
   "outputs": [
    {
     "data": {
      "text/html": [
       "<div>\n",
       "<style scoped>\n",
       "    .dataframe tbody tr th:only-of-type {\n",
       "        vertical-align: middle;\n",
       "    }\n",
       "\n",
       "    .dataframe tbody tr th {\n",
       "        vertical-align: top;\n",
       "    }\n",
       "\n",
       "    .dataframe thead th {\n",
       "        text-align: right;\n",
       "    }\n",
       "</style>\n",
       "<table border=\"1\" class=\"dataframe\">\n",
       "  <thead>\n",
       "    <tr style=\"text-align: right;\">\n",
       "      <th></th>\n",
       "      <th>price</th>\n",
       "      <th>feature1</th>\n",
       "      <th>feature2</th>\n",
       "    </tr>\n",
       "  </thead>\n",
       "  <tbody>\n",
       "    <tr>\n",
       "      <th>price</th>\n",
       "      <td>1.000</td>\n",
       "      <td>0.444</td>\n",
       "      <td>0.908</td>\n",
       "    </tr>\n",
       "    <tr>\n",
       "      <th>feature1</th>\n",
       "      <td>0.444</td>\n",
       "      <td>1.000</td>\n",
       "      <td>0.031</td>\n",
       "    </tr>\n",
       "    <tr>\n",
       "      <th>feature2</th>\n",
       "      <td>0.908</td>\n",
       "      <td>0.031</td>\n",
       "      <td>1.000</td>\n",
       "    </tr>\n",
       "  </tbody>\n",
       "</table>\n",
       "</div>"
      ],
      "text/plain": [
       "          price  feature1  feature2\n",
       "price     1.000     0.444     0.908\n",
       "feature1  0.444     1.000     0.031\n",
       "feature2  0.908     0.031     1.000"
      ]
     },
     "execution_count": 12,
     "metadata": {},
     "output_type": "execute_result"
    }
   ],
   "source": [
    "df.corr()"
   ]
  },
  {
   "cell_type": "markdown",
   "metadata": {
    "id": "O3Ku2VSEYGAF"
   },
   "source": [
    "## Preprocessing of Data\n",
    "- Train | Test Split, Scalling"
   ]
  },
  {
   "cell_type": "code",
   "execution_count": 13,
   "metadata": {
    "id": "QRWJczjFYGAF"
   },
   "outputs": [],
   "source": [
    "from sklearn.model_selection import train_test_split"
   ]
  },
  {
   "cell_type": "code",
   "execution_count": 14,
   "metadata": {
    "id": "4EQA8aFqYGAG"
   },
   "outputs": [],
   "source": [
    "# X = df[['feature1', 'feature2']].values  # converts to array (if you don't sacle dataset create X and y like this)\n",
    "# y = df['price'].values            \n",
    "\n",
    "# DL'de datayı modele sokarken datamızı array'e ya da tensörlere çevirmeliyiz."
   ]
  },
  {
   "cell_type": "code",
   "execution_count": 15,
   "metadata": {
    "id": "isOKQsJUYGAG"
   },
   "outputs": [],
   "source": [
    "X = df[['feature1', 'feature2']]\n",
    "y = df['price']"
   ]
  },
  {
   "cell_type": "code",
   "execution_count": 16,
   "metadata": {
    "colab": {
     "base_uri": "https://localhost:8080/",
     "height": 424
    },
    "id": "yUGOs7EKYGAG",
    "outputId": "9df78ecc-befe-4d9b-8477-819d72af30c4"
   },
   "outputs": [
    {
     "data": {
      "text/html": [
       "<div>\n",
       "<style scoped>\n",
       "    .dataframe tbody tr th:only-of-type {\n",
       "        vertical-align: middle;\n",
       "    }\n",
       "\n",
       "    .dataframe tbody tr th {\n",
       "        vertical-align: top;\n",
       "    }\n",
       "\n",
       "    .dataframe thead th {\n",
       "        text-align: right;\n",
       "    }\n",
       "</style>\n",
       "<table border=\"1\" class=\"dataframe\">\n",
       "  <thead>\n",
       "    <tr style=\"text-align: right;\">\n",
       "      <th></th>\n",
       "      <th>feature1</th>\n",
       "      <th>feature2</th>\n",
       "    </tr>\n",
       "  </thead>\n",
       "  <tbody>\n",
       "    <tr>\n",
       "      <th>0</th>\n",
       "      <td>999.788</td>\n",
       "      <td>999.766</td>\n",
       "    </tr>\n",
       "    <tr>\n",
       "      <th>1</th>\n",
       "      <td>998.862</td>\n",
       "      <td>1001.042</td>\n",
       "    </tr>\n",
       "    <tr>\n",
       "      <th>2</th>\n",
       "      <td>1000.070</td>\n",
       "      <td>998.844</td>\n",
       "    </tr>\n",
       "    <tr>\n",
       "      <th>3</th>\n",
       "      <td>999.952</td>\n",
       "      <td>1000.441</td>\n",
       "    </tr>\n",
       "    <tr>\n",
       "      <th>4</th>\n",
       "      <td>1000.446</td>\n",
       "      <td>1000.339</td>\n",
       "    </tr>\n",
       "    <tr>\n",
       "      <th>...</th>\n",
       "      <td>...</td>\n",
       "      <td>...</td>\n",
       "    </tr>\n",
       "    <tr>\n",
       "      <th>995</th>\n",
       "      <td>1000.019</td>\n",
       "      <td>999.673</td>\n",
       "    </tr>\n",
       "    <tr>\n",
       "      <th>996</th>\n",
       "      <td>998.855</td>\n",
       "      <td>1000.020</td>\n",
       "    </tr>\n",
       "    <tr>\n",
       "      <th>997</th>\n",
       "      <td>1001.452</td>\n",
       "      <td>998.848</td>\n",
       "    </tr>\n",
       "    <tr>\n",
       "      <th>998</th>\n",
       "      <td>1000.771</td>\n",
       "      <td>998.563</td>\n",
       "    </tr>\n",
       "    <tr>\n",
       "      <th>999</th>\n",
       "      <td>999.232</td>\n",
       "      <td>1001.451</td>\n",
       "    </tr>\n",
       "  </tbody>\n",
       "</table>\n",
       "<p>1000 rows × 2 columns</p>\n",
       "</div>"
      ],
      "text/plain": [
       "     feature1  feature2\n",
       "0     999.788   999.766\n",
       "1     998.862  1001.042\n",
       "2    1000.070   998.844\n",
       "3     999.952  1000.441\n",
       "4    1000.446  1000.339\n",
       "..        ...       ...\n",
       "995  1000.019   999.673\n",
       "996   998.855  1000.020\n",
       "997  1001.452   998.848\n",
       "998  1000.771   998.563\n",
       "999   999.232  1001.451\n",
       "\n",
       "[1000 rows x 2 columns]"
      ]
     },
     "execution_count": 16,
     "metadata": {},
     "output_type": "execute_result"
    }
   ],
   "source": [
    "X"
   ]
  },
  {
   "cell_type": "code",
   "execution_count": 17,
   "metadata": {
    "colab": {
     "base_uri": "https://localhost:8080/"
    },
    "id": "cSQQ1ZxAYGAG",
    "outputId": "cc57ce85-a88f-4148-ad70-5bc0f55124ad"
   },
   "outputs": [
    {
     "data": {
      "text/plain": [
       "0     461.528\n",
       "1     548.130\n",
       "2     410.297\n",
       "3     540.382\n",
       "4     546.025\n",
       "        ...  \n",
       "995   476.526\n",
       "996   457.313\n",
       "997   456.721\n",
       "998   403.316\n",
       "999   599.367\n",
       "Name: price, Length: 1000, dtype: float64"
      ]
     },
     "execution_count": 17,
     "metadata": {},
     "output_type": "execute_result"
    }
   ],
   "source": [
    "y"
   ]
  },
  {
   "cell_type": "code",
   "execution_count": 18,
   "metadata": {
    "id": "9wrSrCGbYGAH"
   },
   "outputs": [],
   "source": [
    "X_train, X_test, y_train, y_test = train_test_split(X, y, test_size = 0.3, random_state = 42)"
   ]
  },
  {
   "cell_type": "code",
   "execution_count": 19,
   "metadata": {
    "colab": {
     "base_uri": "https://localhost:8080/"
    },
    "id": "cofsZt3PYGAH",
    "outputId": "8fdb2ff4-53b3-4eb1-d1bc-08383e29c055"
   },
   "outputs": [
    {
     "data": {
      "text/plain": [
       "(700, 2)"
      ]
     },
     "execution_count": 19,
     "metadata": {},
     "output_type": "execute_result"
    }
   ],
   "source": [
    "X_train.shape"
   ]
  },
  {
   "cell_type": "code",
   "execution_count": 20,
   "metadata": {
    "colab": {
     "base_uri": "https://localhost:8080/"
    },
    "id": "GpBVP5DUYGAI",
    "outputId": "05d7206b-e915-45b1-fa09-bcd15efe4d1e"
   },
   "outputs": [
    {
     "data": {
      "text/plain": [
       "(300, 2)"
      ]
     },
     "execution_count": 20,
     "metadata": {},
     "output_type": "execute_result"
    }
   ],
   "source": [
    "X_test.shape"
   ]
  },
  {
   "cell_type": "code",
   "execution_count": 21,
   "metadata": {
    "id": "orqAUW2pYGAI"
   },
   "outputs": [],
   "source": [
    "from sklearn.preprocessing import MinMaxScaler\n",
    "\n",
    "# Arka planda Gradient Descent olduğu için scale'e ihtiyaç duyuyoruz. \n",
    "# DL'de genelde MinMaxScaler daha iyi sonuçlar veriyor."
   ]
  },
  {
   "cell_type": "code",
   "execution_count": 22,
   "metadata": {
    "id": "5TjLQgawYGAJ"
   },
   "outputs": [],
   "source": [
    "scaler = MinMaxScaler()"
   ]
  },
  {
   "cell_type": "code",
   "execution_count": 23,
   "metadata": {
    "id": "7ZxtfDOiYGAJ"
   },
   "outputs": [],
   "source": [
    "X_train= scaler.fit_transform(X_train)\n",
    "X_test = scaler.transform(X_test)"
   ]
  },
  {
   "cell_type": "markdown",
   "metadata": {
    "id": "OsAGjlP8YGAJ"
   },
   "source": [
    "## Modelling"
   ]
  },
  {
   "cell_type": "code",
   "execution_count": 24,
   "metadata": {
    "id": "nfNl-tmAYGAJ"
   },
   "outputs": [],
   "source": [
    "from tensorflow.keras.models import Sequential\n",
    "from tensorflow.keras.layers import Input,Dense"
   ]
  },
  {
   "cell_type": "code",
   "execution_count": 25,
   "metadata": {
    "id": "qBLOUTnFYGAJ"
   },
   "outputs": [],
   "source": [
    "# help(Sequential)\n",
    "\n",
    "# Sequential ; modelimiz ard arda dizilmiş katmanlardan oluşacaksa Sequential modeller kullanacağız."
   ]
  },
  {
   "cell_type": "code",
   "execution_count": 26,
   "metadata": {
    "id": "QN8IhxZQYGAK"
   },
   "outputs": [],
   "source": [
    "#help(Dense)\n",
    "\n",
    "# Dense ;  fully connected bir yapı istiyorsam ben dense layer kullanacağım."
   ]
  },
  {
   "cell_type": "code",
   "execution_count": 27,
   "metadata": {
    "colab": {
     "base_uri": "https://localhost:8080/"
    },
    "id": "7OEp6qC5YGAK",
    "outputId": "7a868ad3-9019-4916-9a59-c11883dd6457"
   },
   "outputs": [
    {
     "data": {
      "text/plain": [
       "(700, 2)"
      ]
     },
     "execution_count": 27,
     "metadata": {},
     "output_type": "execute_result"
    }
   ],
   "source": [
    "X_train.shape"
   ]
  },
  {
   "cell_type": "code",
   "execution_count": 28,
   "metadata": {
    "id": "qckVKgVCYGAK"
   },
   "outputs": [
    {
     "data": {
      "text/plain": [
       "'\\nmodel = Sequential(\\n    [\\n                    Input(shape = X_train.shape[1]),\\n                    Dense(units = 4, activation = \"relu\"),            \\n                    Dense(units = 4, activation = \"relu\"),\\n                    Dense(units = 4, activation = \"relu\"),\\n                    Dense(units = 1)\\n    ]\\n)\\n'"
      ]
     },
     "execution_count": 28,
     "metadata": {},
     "output_type": "execute_result"
    }
   ],
   "source": [
    "# First way to create model\n",
    "\"\"\"\n",
    "model = Sequential(\n",
    "    [\n",
    "                    Input(shape = X_train.shape[1]),\n",
    "                    Dense(units = 4, activation = \"relu\"),            \n",
    "                    Dense(units = 4, activation = \"relu\"),\n",
    "                    Dense(units = 4, activation = \"relu\"),\n",
    "                    Dense(units = 1)\n",
    "    ]\n",
    ")\n",
    "\"\"\""
   ]
  },
  {
   "cell_type": "code",
   "execution_count": 29,
   "metadata": {
    "id": "nuCWh5vdYGAL"
   },
   "outputs": [],
   "source": [
    "# Second way to create model (recommended)\n",
    "\n",
    "\n",
    "model = Sequential()    \n",
    "\n",
    "\n",
    "#model.add(Input(shape = X_train.shape[1])) #alternative way\n",
    "\n",
    "model.add(Dense(units = 4, activation = \"relu\", input_dim = X_train.shape[1]))\n",
    "model.add(Dense(units = 4, activation = \"relu\"))\n",
    "model.add(Dense(units = 4, activation = \"relu\"))\n",
    "model.add(Dense(units = 1))\n",
    "\n",
    "\n",
    "# Dense layer diyerek  eklenen layer'ın  fully connected bir layer olacağını  belirtiyoruz.\n",
    "# son katmanda elimizde bir regresyon problemi olduğundan 1 nöron olmalı ve Aktivasyon fonksiyonunun defaultu ,\n",
    "# None olduğu için tekrardan yazmadık.\n",
    "# hidden layer sayısı nöron sayısı tamamen bize kalmış.\n",
    "# Okunurluğu daha güzel olduğu için bunu kullanacağız."
   ]
  },
  {
   "cell_type": "code",
   "execution_count": 30,
   "metadata": {
    "colab": {
     "base_uri": "https://localhost:8080/"
    },
    "id": "Bj4tisKlYGAL",
    "outputId": "656ad869-5fb2-4767-f684-b26d8e47c6c3"
   },
   "outputs": [
    {
     "name": "stdout",
     "output_type": "stream",
     "text": [
      "Model: \"sequential\"\n",
      "_________________________________________________________________\n",
      " Layer (type)                Output Shape              Param #   \n",
      "=================================================================\n",
      " dense (Dense)               (None, 4)                 12        \n",
      "                                                                 \n",
      " dense_1 (Dense)             (None, 4)                 20        \n",
      "                                                                 \n",
      " dense_2 (Dense)             (None, 4)                 20        \n",
      "                                                                 \n",
      " dense_3 (Dense)             (None, 1)                 5         \n",
      "                                                                 \n",
      "=================================================================\n",
      "Total params: 57\n",
      "Trainable params: 57\n",
      "Non-trainable params: 0\n",
      "_________________________________________________________________\n"
     ]
    }
   ],
   "source": [
    "model.summary()"
   ]
  },
  {
   "cell_type": "code",
   "execution_count": 31,
   "metadata": {
    "colab": {
     "base_uri": "https://localhost:8080/"
    },
    "id": "CwMFcvfgYGAM",
    "outputId": "d522f37d-fa0a-4dfe-b745-88ff86feefc3"
   },
   "outputs": [
    {
     "data": {
      "text/plain": [
       "[<tf.Variable 'dense/kernel:0' shape=(2, 4) dtype=float32, numpy=\n",
       " array([[ 0.6433704 , -0.7616248 ,  0.73506284,  0.88272333],\n",
       "        [-0.3905797 ,  0.2348504 , -0.45235133, -0.6475835 ]],\n",
       "       dtype=float32)>,\n",
       " <tf.Variable 'dense/bias:0' shape=(4,) dtype=float32, numpy=array([0., 0., 0., 0.], dtype=float32)>,\n",
       " <tf.Variable 'dense_1/kernel:0' shape=(4, 4) dtype=float32, numpy=\n",
       " array([[-0.5362737 , -0.15758127, -0.19749582,  0.18735272],\n",
       "        [-0.56006324,  0.407162  ,  0.11590213,  0.58696467],\n",
       "        [-0.7145563 ,  0.6287778 ,  0.1880179 ,  0.26395243],\n",
       "        [ 0.6553268 , -0.73500425, -0.6969785 , -0.02535945]],\n",
       "       dtype=float32)>,\n",
       " <tf.Variable 'dense_1/bias:0' shape=(4,) dtype=float32, numpy=array([0., 0., 0., 0.], dtype=float32)>,\n",
       " <tf.Variable 'dense_2/kernel:0' shape=(4, 4) dtype=float32, numpy=\n",
       " array([[-0.2868244 , -0.78454274,  0.31919307, -0.5855993 ],\n",
       "        [ 0.85392195, -0.00424927, -0.8479213 , -0.34970438],\n",
       "        [ 0.74076885, -0.13220137,  0.5211895 ,  0.25920337],\n",
       "        [ 0.38917917,  0.16703957,  0.30487543, -0.85142213]],\n",
       "       dtype=float32)>,\n",
       " <tf.Variable 'dense_2/bias:0' shape=(4,) dtype=float32, numpy=array([0., 0., 0., 0.], dtype=float32)>,\n",
       " <tf.Variable 'dense_3/kernel:0' shape=(4, 1) dtype=float32, numpy=\n",
       " array([[ 0.12902927],\n",
       "        [ 0.1167661 ],\n",
       "        [-0.7989756 ],\n",
       "        [-1.0401417 ]], dtype=float32)>,\n",
       " <tf.Variable 'dense_3/bias:0' shape=(1,) dtype=float32, numpy=array([0.], dtype=float32)>]"
      ]
     },
     "execution_count": 31,
     "metadata": {},
     "output_type": "execute_result"
    }
   ],
   "source": [
    "model.weights\n",
    "\n",
    "# ilk atanan weight'leri bize veriyor ( random olarak atanıyor )"
   ]
  },
  {
   "cell_type": "markdown",
   "metadata": {
    "id": "kz14aXjQYGAM"
   },
   "source": [
    "### Choosing an optimizer and loss\n",
    "\n",
    "Keep in mind what kind of problem you are trying to solve:\n",
    "\n",
    "            # For a multi-class classification problem\n",
    "            model.compile(optimizer='rmsprop',\n",
    "                          loss='categorical_crossentropy',\n",
    "                          metrics=['accuracy'])\n",
    "\n",
    "            # For a binary classification problem\n",
    "            model.compile(optimizer='rmsprop',\n",
    "                          loss='binary_crossentropy',\n",
    "                          metrics=['accuracy'])\n",
    "\n",
    "            # For a mean squared error regression problem\n",
    "            model.compile(optimizer='rmsprop',\n",
    "                          loss='mse')"
   ]
  },
  {
   "cell_type": "code",
   "execution_count": 32,
   "metadata": {
    "id": "llcb_-x4YGAN"
   },
   "outputs": [],
   "source": [
    "model.compile(optimizer = \"rmsprop\", loss = \"mse\")\n",
    "\n",
    "# regresyon  problemi olduğu için loss fonksiyonumuza mse yazdık.optimizasyon algoritması olarak rmsprop seçtik ; \n",
    "# diğer optimizasyon algoritmaları da kullanabilirdi."
   ]
  },
  {
   "cell_type": "code",
   "execution_count": 33,
   "metadata": {
    "colab": {
     "base_uri": "https://localhost:8080/"
    },
    "id": "x5x1CSf0YGAN",
    "outputId": "70268bac-2d1b-4ea4-ffe3-579e253c6560",
    "scrolled": true
   },
   "outputs": [
    {
     "name": "stdout",
     "output_type": "stream",
     "text": [
      "Epoch 1/250\n",
      "22/22 [==============================] - 1s 3ms/step - loss: 256696.0156\n",
      "Epoch 2/250\n",
      "22/22 [==============================] - 0s 4ms/step - loss: 256628.8906\n",
      "Epoch 3/250\n",
      "22/22 [==============================] - 0s 4ms/step - loss: 256551.6406\n",
      "Epoch 4/250\n",
      "22/22 [==============================] - 0s 5ms/step - loss: 256456.8906\n",
      "Epoch 5/250\n",
      "22/22 [==============================] - 0s 6ms/step - loss: 256340.6094\n",
      "Epoch 6/250\n",
      "22/22 [==============================] - 0s 4ms/step - loss: 256198.2344\n",
      "Epoch 7/250\n",
      "22/22 [==============================] - 0s 3ms/step - loss: 256024.3438\n",
      "Epoch 8/250\n",
      "22/22 [==============================] - 0s 4ms/step - loss: 255814.4062\n",
      "Epoch 9/250\n",
      "22/22 [==============================] - 0s 3ms/step - loss: 255566.0156\n",
      "Epoch 10/250\n",
      "22/22 [==============================] - 0s 5ms/step - loss: 255274.4219\n",
      "Epoch 11/250\n",
      "22/22 [==============================] - 0s 4ms/step - loss: 254935.9531\n",
      "Epoch 12/250\n",
      "22/22 [==============================] - 0s 4ms/step - loss: 254547.1562\n",
      "Epoch 13/250\n",
      "22/22 [==============================] - 0s 4ms/step - loss: 254103.0000\n",
      "Epoch 14/250\n",
      "22/22 [==============================] - 0s 2ms/step - loss: 253593.7188\n",
      "Epoch 15/250\n",
      "22/22 [==============================] - 0s 2ms/step - loss: 253018.7656\n",
      "Epoch 16/250\n",
      "22/22 [==============================] - 0s 3ms/step - loss: 252373.7656\n",
      "Epoch 17/250\n",
      "22/22 [==============================] - 0s 2ms/step - loss: 251650.6562\n",
      "Epoch 18/250\n",
      "22/22 [==============================] - 0s 2ms/step - loss: 250839.6562\n",
      "Epoch 19/250\n",
      "22/22 [==============================] - 0s 2ms/step - loss: 249950.2812\n",
      "Epoch 20/250\n",
      "22/22 [==============================] - 0s 3ms/step - loss: 248963.4688\n",
      "Epoch 21/250\n",
      "22/22 [==============================] - 0s 2ms/step - loss: 247868.9531\n",
      "Epoch 22/250\n",
      "22/22 [==============================] - 0s 3ms/step - loss: 246664.4844\n",
      "Epoch 23/250\n",
      "22/22 [==============================] - 0s 3ms/step - loss: 245357.9219\n",
      "Epoch 24/250\n",
      "22/22 [==============================] - 0s 2ms/step - loss: 243930.3750\n",
      "Epoch 25/250\n",
      "22/22 [==============================] - 0s 3ms/step - loss: 242375.4531\n",
      "Epoch 26/250\n",
      "22/22 [==============================] - 0s 3ms/step - loss: 240689.0312\n",
      "Epoch 27/250\n",
      "22/22 [==============================] - 0s 3ms/step - loss: 238875.4219\n",
      "Epoch 28/250\n",
      "22/22 [==============================] - 0s 3ms/step - loss: 236913.8281\n",
      "Epoch 29/250\n",
      "22/22 [==============================] - 0s 3ms/step - loss: 234792.2031\n",
      "Epoch 30/250\n",
      "22/22 [==============================] - 0s 3ms/step - loss: 232517.3438\n",
      "Epoch 31/250\n",
      "22/22 [==============================] - 0s 2ms/step - loss: 230083.6875\n",
      "Epoch 32/250\n",
      "22/22 [==============================] - 0s 2ms/step - loss: 227478.4531\n",
      "Epoch 33/250\n",
      "22/22 [==============================] - 0s 2ms/step - loss: 224707.9531\n",
      "Epoch 34/250\n",
      "22/22 [==============================] - 0s 2ms/step - loss: 221757.5781\n",
      "Epoch 35/250\n",
      "22/22 [==============================] - 0s 2ms/step - loss: 218634.9531\n",
      "Epoch 36/250\n",
      "22/22 [==============================] - 0s 2ms/step - loss: 215320.7500\n",
      "Epoch 37/250\n",
      "22/22 [==============================] - 0s 2ms/step - loss: 211804.5469\n",
      "Epoch 38/250\n",
      "22/22 [==============================] - 0s 3ms/step - loss: 208118.8125\n",
      "Epoch 39/250\n",
      "22/22 [==============================] - 0s 3ms/step - loss: 204221.9844\n",
      "Epoch 40/250\n",
      "22/22 [==============================] - 0s 3ms/step - loss: 200123.7031\n",
      "Epoch 41/250\n",
      "22/22 [==============================] - 0s 3ms/step - loss: 195820.8438\n",
      "Epoch 42/250\n",
      "22/22 [==============================] - 0s 3ms/step - loss: 191311.6875\n",
      "Epoch 43/250\n",
      "22/22 [==============================] - 0s 4ms/step - loss: 186632.4531\n",
      "Epoch 44/250\n",
      "22/22 [==============================] - 0s 4ms/step - loss: 181710.1406\n",
      "Epoch 45/250\n",
      "22/22 [==============================] - 0s 4ms/step - loss: 176591.6719\n",
      "Epoch 46/250\n",
      "22/22 [==============================] - 0s 4ms/step - loss: 171309.2969\n",
      "Epoch 47/250\n",
      "22/22 [==============================] - 0s 4ms/step - loss: 165809.4219\n",
      "Epoch 48/250\n",
      "22/22 [==============================] - 0s 3ms/step - loss: 160106.6094\n",
      "Epoch 49/250\n",
      "22/22 [==============================] - 0s 3ms/step - loss: 154241.5000\n",
      "Epoch 50/250\n",
      "22/22 [==============================] - 0s 3ms/step - loss: 148181.8438\n",
      "Epoch 51/250\n",
      "22/22 [==============================] - 0s 3ms/step - loss: 141961.7656\n",
      "Epoch 52/250\n",
      "22/22 [==============================] - 0s 6ms/step - loss: 135588.9219\n",
      "Epoch 53/250\n",
      "22/22 [==============================] - 0s 3ms/step - loss: 129073.1406\n",
      "Epoch 54/250\n",
      "22/22 [==============================] - 0s 4ms/step - loss: 122408.5469\n",
      "Epoch 55/250\n",
      "22/22 [==============================] - 0s 6ms/step - loss: 115657.5078\n",
      "Epoch 56/250\n",
      "22/22 [==============================] - 0s 5ms/step - loss: 108807.5000\n",
      "Epoch 57/250\n",
      "22/22 [==============================] - 0s 3ms/step - loss: 101897.9766\n",
      "Epoch 58/250\n",
      "22/22 [==============================] - 0s 3ms/step - loss: 94932.0781\n",
      "Epoch 59/250\n",
      "22/22 [==============================] - 0s 2ms/step - loss: 87922.5391\n",
      "Epoch 60/250\n",
      "22/22 [==============================] - 0s 3ms/step - loss: 80927.2891\n",
      "Epoch 61/250\n",
      "22/22 [==============================] - 0s 2ms/step - loss: 73981.9297\n",
      "Epoch 62/250\n",
      "22/22 [==============================] - 0s 3ms/step - loss: 67052.4219\n",
      "Epoch 63/250\n",
      "22/22 [==============================] - 0s 3ms/step - loss: 60251.7070\n",
      "Epoch 64/250\n",
      "22/22 [==============================] - 0s 4ms/step - loss: 53569.4805\n",
      "Epoch 65/250\n",
      "22/22 [==============================] - 0s 5ms/step - loss: 47099.5742\n",
      "Epoch 66/250\n",
      "22/22 [==============================] - 0s 5ms/step - loss: 40881.1016\n",
      "Epoch 67/250\n",
      "22/22 [==============================] - 0s 4ms/step - loss: 34917.6562\n",
      "Epoch 68/250\n",
      "22/22 [==============================] - 0s 5ms/step - loss: 29253.9336\n",
      "Epoch 69/250\n",
      "22/22 [==============================] - 0s 4ms/step - loss: 24028.9629\n",
      "Epoch 70/250\n",
      "22/22 [==============================] - 0s 3ms/step - loss: 19204.8008\n",
      "Epoch 71/250\n",
      "22/22 [==============================] - 0s 3ms/step - loss: 14914.4629\n",
      "Epoch 72/250\n",
      "22/22 [==============================] - 0s 3ms/step - loss: 11196.4512\n",
      "Epoch 73/250\n",
      "22/22 [==============================] - 0s 3ms/step - loss: 8100.7480\n",
      "Epoch 74/250\n",
      "22/22 [==============================] - 0s 4ms/step - loss: 5675.3477\n",
      "Epoch 75/250\n",
      "22/22 [==============================] - 0s 4ms/step - loss: 3969.9604\n",
      "Epoch 76/250\n",
      "22/22 [==============================] - 0s 3ms/step - loss: 2941.6450\n",
      "Epoch 77/250\n",
      "22/22 [==============================] - 0s 4ms/step - loss: 2544.3801\n",
      "Epoch 78/250\n",
      "22/22 [==============================] - 0s 4ms/step - loss: 2446.4856\n",
      "Epoch 79/250\n",
      "22/22 [==============================] - 0s 4ms/step - loss: 2410.5659\n",
      "Epoch 80/250\n",
      "22/22 [==============================] - 0s 5ms/step - loss: 2369.1321\n",
      "Epoch 81/250\n",
      "22/22 [==============================] - 0s 3ms/step - loss: 2325.0842\n",
      "Epoch 82/250\n",
      "22/22 [==============================] - 0s 5ms/step - loss: 2288.1860\n",
      "Epoch 83/250\n",
      "22/22 [==============================] - 0s 5ms/step - loss: 2241.0364\n",
      "Epoch 84/250\n",
      "22/22 [==============================] - 0s 5ms/step - loss: 2201.0732\n",
      "Epoch 85/250\n",
      "22/22 [==============================] - 0s 3ms/step - loss: 2159.8591\n",
      "Epoch 86/250\n",
      "22/22 [==============================] - 0s 3ms/step - loss: 2119.1680\n",
      "Epoch 87/250\n",
      "22/22 [==============================] - 0s 4ms/step - loss: 2083.7117\n",
      "Epoch 88/250\n",
      "22/22 [==============================] - 0s 3ms/step - loss: 2040.4476\n",
      "Epoch 89/250\n",
      "22/22 [==============================] - 0s 4ms/step - loss: 2000.0009\n",
      "Epoch 90/250\n",
      "22/22 [==============================] - 0s 8ms/step - loss: 1959.3337\n",
      "Epoch 91/250\n",
      "22/22 [==============================] - 0s 3ms/step - loss: 1919.9727\n",
      "Epoch 92/250\n",
      "22/22 [==============================] - 0s 4ms/step - loss: 1878.5231\n",
      "Epoch 93/250\n",
      "22/22 [==============================] - 0s 6ms/step - loss: 1841.6489\n",
      "Epoch 94/250\n",
      "22/22 [==============================] - 0s 3ms/step - loss: 1804.1112\n",
      "Epoch 95/250\n",
      "22/22 [==============================] - 0s 5ms/step - loss: 1763.8282\n",
      "Epoch 96/250\n",
      "22/22 [==============================] - 0s 3ms/step - loss: 1722.3755\n",
      "Epoch 97/250\n"
     ]
    },
    {
     "name": "stdout",
     "output_type": "stream",
     "text": [
      "22/22 [==============================] - 0s 4ms/step - loss: 1684.1521\n",
      "Epoch 98/250\n",
      "22/22 [==============================] - 0s 4ms/step - loss: 1645.7681\n",
      "Epoch 99/250\n",
      "22/22 [==============================] - 0s 4ms/step - loss: 1607.9093\n",
      "Epoch 100/250\n",
      "22/22 [==============================] - 0s 5ms/step - loss: 1569.0898\n",
      "Epoch 101/250\n",
      "22/22 [==============================] - 0s 4ms/step - loss: 1525.8579\n",
      "Epoch 102/250\n",
      "22/22 [==============================] - 0s 3ms/step - loss: 1492.8557\n",
      "Epoch 103/250\n",
      "22/22 [==============================] - 0s 3ms/step - loss: 1453.0790\n",
      "Epoch 104/250\n",
      "22/22 [==============================] - 0s 3ms/step - loss: 1421.3726\n",
      "Epoch 105/250\n",
      "22/22 [==============================] - 0s 2ms/step - loss: 1383.6448\n",
      "Epoch 106/250\n",
      "22/22 [==============================] - 0s 2ms/step - loss: 1349.7823\n",
      "Epoch 107/250\n",
      "22/22 [==============================] - 0s 4ms/step - loss: 1310.6512\n",
      "Epoch 108/250\n",
      "22/22 [==============================] - 0s 4ms/step - loss: 1279.0493\n",
      "Epoch 109/250\n",
      "22/22 [==============================] - 0s 3ms/step - loss: 1243.4421\n",
      "Epoch 110/250\n",
      "22/22 [==============================] - 0s 3ms/step - loss: 1213.0338\n",
      "Epoch 111/250\n",
      "22/22 [==============================] - 0s 4ms/step - loss: 1180.2937\n",
      "Epoch 112/250\n",
      "22/22 [==============================] - 0s 5ms/step - loss: 1146.2811\n",
      "Epoch 113/250\n",
      "22/22 [==============================] - 0s 7ms/step - loss: 1117.1683\n",
      "Epoch 114/250\n",
      "22/22 [==============================] - 0s 4ms/step - loss: 1086.0642\n",
      "Epoch 115/250\n",
      "22/22 [==============================] - 0s 3ms/step - loss: 1055.5377\n",
      "Epoch 116/250\n",
      "22/22 [==============================] - 0s 2ms/step - loss: 1024.3376\n",
      "Epoch 117/250\n",
      "22/22 [==============================] - 0s 3ms/step - loss: 996.5553\n",
      "Epoch 118/250\n",
      "22/22 [==============================] - 0s 3ms/step - loss: 965.5199\n",
      "Epoch 119/250\n",
      "22/22 [==============================] - 0s 2ms/step - loss: 934.1990\n",
      "Epoch 120/250\n",
      "22/22 [==============================] - 0s 2ms/step - loss: 910.4036\n",
      "Epoch 121/250\n",
      "22/22 [==============================] - 0s 3ms/step - loss: 881.2704\n",
      "Epoch 122/250\n",
      "22/22 [==============================] - 0s 3ms/step - loss: 852.3438\n",
      "Epoch 123/250\n",
      "22/22 [==============================] - 0s 8ms/step - loss: 827.8452\n",
      "Epoch 124/250\n",
      "22/22 [==============================] - 0s 7ms/step - loss: 796.4676\n",
      "Epoch 125/250\n",
      "22/22 [==============================] - 0s 4ms/step - loss: 765.3336\n",
      "Epoch 126/250\n",
      "22/22 [==============================] - 0s 3ms/step - loss: 740.5664\n",
      "Epoch 127/250\n",
      "22/22 [==============================] - 0s 3ms/step - loss: 710.5209\n",
      "Epoch 128/250\n",
      "22/22 [==============================] - 0s 3ms/step - loss: 682.5975\n",
      "Epoch 129/250\n",
      "22/22 [==============================] - 0s 3ms/step - loss: 658.5631\n",
      "Epoch 130/250\n",
      "22/22 [==============================] - 0s 3ms/step - loss: 632.7461\n",
      "Epoch 131/250\n",
      "22/22 [==============================] - 0s 3ms/step - loss: 607.5291\n",
      "Epoch 132/250\n",
      "22/22 [==============================] - 0s 3ms/step - loss: 579.1091\n",
      "Epoch 133/250\n",
      "22/22 [==============================] - 0s 3ms/step - loss: 553.7075\n",
      "Epoch 134/250\n",
      "22/22 [==============================] - 0s 3ms/step - loss: 525.9810\n",
      "Epoch 135/250\n",
      "22/22 [==============================] - 0s 4ms/step - loss: 497.6728\n",
      "Epoch 136/250\n",
      "22/22 [==============================] - 0s 4ms/step - loss: 472.9121\n",
      "Epoch 137/250\n",
      "22/22 [==============================] - 0s 4ms/step - loss: 449.1958\n",
      "Epoch 138/250\n",
      "22/22 [==============================] - 0s 4ms/step - loss: 428.4563\n",
      "Epoch 139/250\n",
      "22/22 [==============================] - 0s 3ms/step - loss: 407.9362\n",
      "Epoch 140/250\n",
      "22/22 [==============================] - 0s 3ms/step - loss: 389.8921\n",
      "Epoch 141/250\n",
      "22/22 [==============================] - 0s 4ms/step - loss: 369.5887\n",
      "Epoch 142/250\n",
      "22/22 [==============================] - 0s 3ms/step - loss: 349.5534\n",
      "Epoch 143/250\n",
      "22/22 [==============================] - 0s 3ms/step - loss: 329.9418\n",
      "Epoch 144/250\n",
      "22/22 [==============================] - 0s 4ms/step - loss: 309.8037\n",
      "Epoch 145/250\n",
      "22/22 [==============================] - 0s 4ms/step - loss: 291.7065\n",
      "Epoch 146/250\n",
      "22/22 [==============================] - 0s 5ms/step - loss: 272.5876\n",
      "Epoch 147/250\n",
      "22/22 [==============================] - 0s 5ms/step - loss: 258.1584\n",
      "Epoch 148/250\n",
      "22/22 [==============================] - 0s 4ms/step - loss: 241.8366\n",
      "Epoch 149/250\n",
      "22/22 [==============================] - 0s 5ms/step - loss: 226.7934\n",
      "Epoch 150/250\n",
      "22/22 [==============================] - 0s 4ms/step - loss: 213.0592\n",
      "Epoch 151/250\n",
      "22/22 [==============================] - 0s 4ms/step - loss: 196.3317\n",
      "Epoch 152/250\n",
      "22/22 [==============================] - 0s 3ms/step - loss: 184.4435\n",
      "Epoch 153/250\n",
      "22/22 [==============================] - 0s 3ms/step - loss: 172.7850\n",
      "Epoch 154/250\n",
      "22/22 [==============================] - 0s 3ms/step - loss: 161.3117\n",
      "Epoch 155/250\n",
      "22/22 [==============================] - 0s 4ms/step - loss: 150.7216\n",
      "Epoch 156/250\n",
      "22/22 [==============================] - 0s 4ms/step - loss: 141.3753\n",
      "Epoch 157/250\n",
      "22/22 [==============================] - 0s 4ms/step - loss: 131.1688\n",
      "Epoch 158/250\n",
      "22/22 [==============================] - 0s 5ms/step - loss: 122.6167\n",
      "Epoch 159/250\n",
      "22/22 [==============================] - 0s 4ms/step - loss: 113.6959\n",
      "Epoch 160/250\n",
      "22/22 [==============================] - 0s 6ms/step - loss: 104.1287\n",
      "Epoch 161/250\n",
      "22/22 [==============================] - 0s 5ms/step - loss: 96.0821\n",
      "Epoch 162/250\n",
      "22/22 [==============================] - 0s 4ms/step - loss: 88.3969\n",
      "Epoch 163/250\n",
      "22/22 [==============================] - 0s 3ms/step - loss: 81.1750\n",
      "Epoch 164/250\n",
      "22/22 [==============================] - 0s 2ms/step - loss: 75.4441\n",
      "Epoch 165/250\n",
      "22/22 [==============================] - 0s 2ms/step - loss: 68.4839\n",
      "Epoch 166/250\n",
      "22/22 [==============================] - 0s 2ms/step - loss: 63.6233\n",
      "Epoch 167/250\n",
      "22/22 [==============================] - 0s 3ms/step - loss: 58.4940\n",
      "Epoch 168/250\n",
      "22/22 [==============================] - 0s 3ms/step - loss: 52.8048\n",
      "Epoch 169/250\n",
      "22/22 [==============================] - 0s 5ms/step - loss: 48.9715\n",
      "Epoch 170/250\n",
      "22/22 [==============================] - 0s 4ms/step - loss: 44.6354\n",
      "Epoch 171/250\n",
      "22/22 [==============================] - 0s 4ms/step - loss: 41.8977\n",
      "Epoch 172/250\n",
      "22/22 [==============================] - 0s 4ms/step - loss: 38.4869\n",
      "Epoch 173/250\n",
      "22/22 [==============================] - 0s 3ms/step - loss: 36.0446\n",
      "Epoch 174/250\n",
      "22/22 [==============================] - 0s 3ms/step - loss: 34.1477\n",
      "Epoch 175/250\n",
      "22/22 [==============================] - 0s 2ms/step - loss: 31.7691\n",
      "Epoch 176/250\n",
      "22/22 [==============================] - 0s 2ms/step - loss: 30.7567\n",
      "Epoch 177/250\n",
      "22/22 [==============================] - 0s 3ms/step - loss: 29.9701\n",
      "Epoch 178/250\n",
      "22/22 [==============================] - 0s 2ms/step - loss: 28.5614\n",
      "Epoch 179/250\n",
      "22/22 [==============================] - 0s 3ms/step - loss: 28.0859\n",
      "Epoch 180/250\n",
      "22/22 [==============================] - 0s 3ms/step - loss: 27.3344\n",
      "Epoch 181/250\n",
      "22/22 [==============================] - 0s 3ms/step - loss: 26.8602\n",
      "Epoch 182/250\n",
      "22/22 [==============================] - 0s 5ms/step - loss: 26.2549\n",
      "Epoch 183/250\n",
      "22/22 [==============================] - 0s 4ms/step - loss: 25.7076\n",
      "Epoch 184/250\n",
      "22/22 [==============================] - 0s 3ms/step - loss: 25.1418\n",
      "Epoch 185/250\n",
      "22/22 [==============================] - 0s 3ms/step - loss: 25.6763\n",
      "Epoch 186/250\n",
      "22/22 [==============================] - 0s 4ms/step - loss: 25.1570\n",
      "Epoch 187/250\n",
      "22/22 [==============================] - 0s 3ms/step - loss: 24.5132\n",
      "Epoch 188/250\n",
      "22/22 [==============================] - 0s 3ms/step - loss: 24.8825\n",
      "Epoch 189/250\n",
      "22/22 [==============================] - 0s 3ms/step - loss: 24.5217\n",
      "Epoch 190/250\n",
      "22/22 [==============================] - 0s 2ms/step - loss: 24.6614\n",
      "Epoch 191/250\n",
      "22/22 [==============================] - 0s 2ms/step - loss: 24.5228\n",
      "Epoch 192/250\n",
      "22/22 [==============================] - 0s 2ms/step - loss: 24.9612\n",
      "Epoch 193/250\n",
      "22/22 [==============================] - 0s 3ms/step - loss: 24.4184\n",
      "Epoch 194/250\n"
     ]
    },
    {
     "name": "stdout",
     "output_type": "stream",
     "text": [
      "22/22 [==============================] - 0s 3ms/step - loss: 24.8960\n",
      "Epoch 195/250\n",
      "22/22 [==============================] - 0s 4ms/step - loss: 24.3048\n",
      "Epoch 196/250\n",
      "22/22 [==============================] - 0s 3ms/step - loss: 23.9042\n",
      "Epoch 197/250\n",
      "22/22 [==============================] - 0s 3ms/step - loss: 24.7636\n",
      "Epoch 198/250\n",
      "22/22 [==============================] - 0s 3ms/step - loss: 24.1262\n",
      "Epoch 199/250\n",
      "22/22 [==============================] - 0s 3ms/step - loss: 24.1715\n",
      "Epoch 200/250\n",
      "22/22 [==============================] - 0s 3ms/step - loss: 24.5567\n",
      "Epoch 201/250\n",
      "22/22 [==============================] - 0s 2ms/step - loss: 24.1482\n",
      "Epoch 202/250\n",
      "22/22 [==============================] - 0s 3ms/step - loss: 24.4875\n",
      "Epoch 203/250\n",
      "22/22 [==============================] - 0s 3ms/step - loss: 24.6133\n",
      "Epoch 204/250\n",
      "22/22 [==============================] - 0s 3ms/step - loss: 24.4588\n",
      "Epoch 205/250\n",
      "22/22 [==============================] - 0s 2ms/step - loss: 24.3748\n",
      "Epoch 206/250\n",
      "22/22 [==============================] - 0s 3ms/step - loss: 24.2823\n",
      "Epoch 207/250\n",
      "22/22 [==============================] - 0s 2ms/step - loss: 24.2573\n",
      "Epoch 208/250\n",
      "22/22 [==============================] - 0s 3ms/step - loss: 24.1526\n",
      "Epoch 209/250\n",
      "22/22 [==============================] - 0s 3ms/step - loss: 24.6392\n",
      "Epoch 210/250\n",
      "22/22 [==============================] - 0s 3ms/step - loss: 24.4060\n",
      "Epoch 211/250\n",
      "22/22 [==============================] - 0s 3ms/step - loss: 24.2569\n",
      "Epoch 212/250\n",
      "22/22 [==============================] - 0s 3ms/step - loss: 24.1796\n",
      "Epoch 213/250\n",
      "22/22 [==============================] - 0s 4ms/step - loss: 24.2433\n",
      "Epoch 214/250\n",
      "22/22 [==============================] - 0s 3ms/step - loss: 24.1151\n",
      "Epoch 215/250\n",
      "22/22 [==============================] - 0s 4ms/step - loss: 24.8255\n",
      "Epoch 216/250\n",
      "22/22 [==============================] - 0s 4ms/step - loss: 24.3069\n",
      "Epoch 217/250\n",
      "22/22 [==============================] - 0s 4ms/step - loss: 24.5906\n",
      "Epoch 218/250\n",
      "22/22 [==============================] - 0s 4ms/step - loss: 24.2051\n",
      "Epoch 219/250\n",
      "22/22 [==============================] - 0s 3ms/step - loss: 24.1971\n",
      "Epoch 220/250\n",
      "22/22 [==============================] - 0s 3ms/step - loss: 24.4735\n",
      "Epoch 221/250\n",
      "22/22 [==============================] - 0s 3ms/step - loss: 24.7042\n",
      "Epoch 222/250\n",
      "22/22 [==============================] - 0s 4ms/step - loss: 23.9880\n",
      "Epoch 223/250\n",
      "22/22 [==============================] - 0s 4ms/step - loss: 24.7407\n",
      "Epoch 224/250\n",
      "22/22 [==============================] - 0s 3ms/step - loss: 24.2106\n",
      "Epoch 225/250\n",
      "22/22 [==============================] - 0s 3ms/step - loss: 24.2658\n",
      "Epoch 226/250\n",
      "22/22 [==============================] - 0s 4ms/step - loss: 24.4667\n",
      "Epoch 227/250\n",
      "22/22 [==============================] - 0s 3ms/step - loss: 24.0881\n",
      "Epoch 228/250\n",
      "22/22 [==============================] - 0s 3ms/step - loss: 25.1450\n",
      "Epoch 229/250\n",
      "22/22 [==============================] - 0s 3ms/step - loss: 23.9296\n",
      "Epoch 230/250\n",
      "22/22 [==============================] - 0s 2ms/step - loss: 24.4781\n",
      "Epoch 231/250\n",
      "22/22 [==============================] - 0s 3ms/step - loss: 24.0994\n",
      "Epoch 232/250\n",
      "22/22 [==============================] - 0s 3ms/step - loss: 24.3005\n",
      "Epoch 233/250\n",
      "22/22 [==============================] - 0s 3ms/step - loss: 24.3264\n",
      "Epoch 234/250\n",
      "22/22 [==============================] - 0s 3ms/step - loss: 24.3469\n",
      "Epoch 235/250\n",
      "22/22 [==============================] - 0s 3ms/step - loss: 24.4203\n",
      "Epoch 236/250\n",
      "22/22 [==============================] - 0s 3ms/step - loss: 24.3771\n",
      "Epoch 237/250\n",
      "22/22 [==============================] - 0s 5ms/step - loss: 24.1837\n",
      "Epoch 238/250\n",
      "22/22 [==============================] - 0s 4ms/step - loss: 23.9224\n",
      "Epoch 239/250\n",
      "22/22 [==============================] - 0s 3ms/step - loss: 24.0626\n",
      "Epoch 240/250\n",
      "22/22 [==============================] - 0s 3ms/step - loss: 24.0507\n",
      "Epoch 241/250\n",
      "22/22 [==============================] - 0s 3ms/step - loss: 24.4118\n",
      "Epoch 242/250\n",
      "22/22 [==============================] - 0s 3ms/step - loss: 24.3322\n",
      "Epoch 243/250\n",
      "22/22 [==============================] - 0s 3ms/step - loss: 24.3124\n",
      "Epoch 244/250\n",
      "22/22 [==============================] - 0s 3ms/step - loss: 24.3484\n",
      "Epoch 245/250\n",
      "22/22 [==============================] - 0s 3ms/step - loss: 24.2602\n",
      "Epoch 246/250\n",
      "22/22 [==============================] - 0s 3ms/step - loss: 24.0686\n",
      "Epoch 247/250\n",
      "22/22 [==============================] - 0s 4ms/step - loss: 24.2432\n",
      "Epoch 248/250\n",
      "22/22 [==============================] - 0s 3ms/step - loss: 24.3393\n",
      "Epoch 249/250\n",
      "22/22 [==============================] - 0s 3ms/step - loss: 25.0380\n",
      "Epoch 250/250\n",
      "22/22 [==============================] - 0s 3ms/step - loss: 24.3528\n"
     ]
    },
    {
     "data": {
      "text/plain": [
       "<keras.callbacks.History at 0x20891fa1f40>"
      ]
     },
     "execution_count": 33,
     "metadata": {},
     "output_type": "execute_result"
    }
   ],
   "source": [
    "model.fit(x = X_train, y = y_train, batch_size = 32, epochs = 250)"
   ]
  },
  {
   "cell_type": "code",
   "execution_count": 34,
   "metadata": {
    "colab": {
     "base_uri": "https://localhost:8080/"
    },
    "id": "t0f8HUqqYGAO",
    "outputId": "2170f572-b36d-4bfb-cec1-29c634dab886",
    "scrolled": false
   },
   "outputs": [
    {
     "data": {
      "text/plain": [
       "[<tf.Variable 'dense/kernel:0' shape=(2, 4) dtype=float32, numpy=\n",
       " array([[ 1.8645066 ,  0.5910256 ,  2.0795224 ,  0.5609674 ],\n",
       "        [ 2.6122022 ,  3.3646579 ,  2.6716123 , -0.93052727]],\n",
       "       dtype=float32)>,\n",
       " <tf.Variable 'dense/bias:0' shape=(4,) dtype=float32, numpy=array([ 0.50564736,  0.63413703,  0.6273397 , -0.32828027], dtype=float32)>,\n",
       " <tf.Variable 'dense_1/kernel:0' shape=(4, 4) dtype=float32, numpy=\n",
       " array([[-0.5362737 ,  1.6860373 ,  1.6630474 ,  2.0028162 ],\n",
       "        [-0.56006324,  2.5529957 ,  2.263632  ,  2.7352724 ],\n",
       "        [-0.7145563 ,  2.4266825 ,  1.9972954 ,  2.0347412 ],\n",
       "        [ 0.6553268 , -0.4520958 , -0.39479417,  0.22511576]],\n",
       "       dtype=float32)>,\n",
       " <tf.Variable 'dense_1/bias:0' shape=(4,) dtype=float32, numpy=array([0.        , 0.6069725 , 0.61231923, 0.59075654], dtype=float32)>,\n",
       " <tf.Variable 'dense_2/kernel:0' shape=(4, 4) dtype=float32, numpy=\n",
       " array([[-0.2868244 , -0.78454274,  0.31919307, -0.5855993 ],\n",
       "        [ 2.7231157 ,  1.865652  , -0.880041  , -0.34970438],\n",
       "        [ 2.6062958 ,  1.7340039 ,  0.5211895 ,  0.25920337],\n",
       "        [ 2.2634165 ,  2.041994  ,  0.28682414, -0.85142213]],\n",
       "       dtype=float32)>,\n",
       " <tf.Variable 'dense_2/bias:0' shape=(4,) dtype=float32, numpy=array([ 0.5928918 ,  0.59369236, -0.01561688,  0.        ], dtype=float32)>,\n",
       " <tf.Variable 'dense_3/kernel:0' shape=(4, 1) dtype=float32, numpy=\n",
       " array([[ 1.9770296],\n",
       "        [ 1.969298 ],\n",
       "        [-0.7853741],\n",
       "        [-1.0401417]], dtype=float32)>,\n",
       " <tf.Variable 'dense_3/bias:0' shape=(1,) dtype=float32, numpy=array([0.5693573], dtype=float32)>]"
      ]
     },
     "execution_count": 34,
     "metadata": {},
     "output_type": "execute_result"
    }
   ],
   "source": [
    "model.weights\n",
    "# random olarak atanan weight'lerin değiştiğini görebiliriz."
   ]
  },
  {
   "cell_type": "code",
   "execution_count": 35,
   "metadata": {
    "colab": {
     "base_uri": "https://localhost:8080/"
    },
    "id": "kh61BRDfYGAO",
    "outputId": "d71f634f-1e76-4bd2-eb6b-593bbb2d1f0a"
   },
   "outputs": [
    {
     "data": {
      "text/plain": [
       "{'loss': [256696.015625,\n",
       "  256628.890625,\n",
       "  256551.640625,\n",
       "  256456.890625,\n",
       "  256340.609375,\n",
       "  256198.234375,\n",
       "  256024.34375,\n",
       "  255814.40625,\n",
       "  255566.015625,\n",
       "  255274.421875,\n",
       "  254935.953125,\n",
       "  254547.15625,\n",
       "  254103.0,\n",
       "  253593.71875,\n",
       "  253018.765625,\n",
       "  252373.765625,\n",
       "  251650.65625,\n",
       "  250839.65625,\n",
       "  249950.28125,\n",
       "  248963.46875,\n",
       "  247868.953125,\n",
       "  246664.484375,\n",
       "  245357.921875,\n",
       "  243930.375,\n",
       "  242375.453125,\n",
       "  240689.03125,\n",
       "  238875.421875,\n",
       "  236913.828125,\n",
       "  234792.203125,\n",
       "  232517.34375,\n",
       "  230083.6875,\n",
       "  227478.453125,\n",
       "  224707.953125,\n",
       "  221757.578125,\n",
       "  218634.953125,\n",
       "  215320.75,\n",
       "  211804.546875,\n",
       "  208118.8125,\n",
       "  204221.984375,\n",
       "  200123.703125,\n",
       "  195820.84375,\n",
       "  191311.6875,\n",
       "  186632.453125,\n",
       "  181710.140625,\n",
       "  176591.671875,\n",
       "  171309.296875,\n",
       "  165809.421875,\n",
       "  160106.609375,\n",
       "  154241.5,\n",
       "  148181.84375,\n",
       "  141961.765625,\n",
       "  135588.921875,\n",
       "  129073.140625,\n",
       "  122408.546875,\n",
       "  115657.5078125,\n",
       "  108807.5,\n",
       "  101897.9765625,\n",
       "  94932.078125,\n",
       "  87922.5390625,\n",
       "  80927.2890625,\n",
       "  73981.9296875,\n",
       "  67052.421875,\n",
       "  60251.70703125,\n",
       "  53569.48046875,\n",
       "  47099.57421875,\n",
       "  40881.1015625,\n",
       "  34917.65625,\n",
       "  29253.93359375,\n",
       "  24028.962890625,\n",
       "  19204.80078125,\n",
       "  14914.462890625,\n",
       "  11196.451171875,\n",
       "  8100.748046875,\n",
       "  5675.34765625,\n",
       "  3969.96044921875,\n",
       "  2941.64501953125,\n",
       "  2544.380126953125,\n",
       "  2446.485595703125,\n",
       "  2410.56591796875,\n",
       "  2369.132080078125,\n",
       "  2325.084228515625,\n",
       "  2288.18603515625,\n",
       "  2241.036376953125,\n",
       "  2201.0732421875,\n",
       "  2159.859130859375,\n",
       "  2119.16796875,\n",
       "  2083.711669921875,\n",
       "  2040.4476318359375,\n",
       "  2000.0008544921875,\n",
       "  1959.333740234375,\n",
       "  1919.97265625,\n",
       "  1878.5230712890625,\n",
       "  1841.64892578125,\n",
       "  1804.1112060546875,\n",
       "  1763.8282470703125,\n",
       "  1722.37548828125,\n",
       "  1684.152099609375,\n",
       "  1645.76806640625,\n",
       "  1607.9093017578125,\n",
       "  1569.08984375,\n",
       "  1525.85791015625,\n",
       "  1492.855712890625,\n",
       "  1453.0789794921875,\n",
       "  1421.37255859375,\n",
       "  1383.644775390625,\n",
       "  1349.7823486328125,\n",
       "  1310.6512451171875,\n",
       "  1279.04931640625,\n",
       "  1243.442138671875,\n",
       "  1213.0338134765625,\n",
       "  1180.293701171875,\n",
       "  1146.2811279296875,\n",
       "  1117.1683349609375,\n",
       "  1086.064208984375,\n",
       "  1055.5377197265625,\n",
       "  1024.337646484375,\n",
       "  996.5552978515625,\n",
       "  965.5198974609375,\n",
       "  934.1990356445312,\n",
       "  910.403564453125,\n",
       "  881.2704467773438,\n",
       "  852.34375,\n",
       "  827.8451538085938,\n",
       "  796.4675903320312,\n",
       "  765.3335571289062,\n",
       "  740.56640625,\n",
       "  710.5208740234375,\n",
       "  682.5974731445312,\n",
       "  658.5631103515625,\n",
       "  632.74609375,\n",
       "  607.5291137695312,\n",
       "  579.109130859375,\n",
       "  553.70751953125,\n",
       "  525.9810180664062,\n",
       "  497.6727600097656,\n",
       "  472.9121398925781,\n",
       "  449.19580078125,\n",
       "  428.456298828125,\n",
       "  407.9362487792969,\n",
       "  389.8920593261719,\n",
       "  369.5887451171875,\n",
       "  349.55340576171875,\n",
       "  329.9417724609375,\n",
       "  309.8037109375,\n",
       "  291.7064514160156,\n",
       "  272.5876159667969,\n",
       "  258.15838623046875,\n",
       "  241.8366241455078,\n",
       "  226.7934112548828,\n",
       "  213.05918884277344,\n",
       "  196.3317413330078,\n",
       "  184.4435272216797,\n",
       "  172.7849884033203,\n",
       "  161.31167602539062,\n",
       "  150.72158813476562,\n",
       "  141.37533569335938,\n",
       "  131.1687774658203,\n",
       "  122.61670684814453,\n",
       "  113.69586944580078,\n",
       "  104.12866973876953,\n",
       "  96.0820541381836,\n",
       "  88.39694213867188,\n",
       "  81.1750259399414,\n",
       "  75.44406127929688,\n",
       "  68.48394775390625,\n",
       "  63.62331008911133,\n",
       "  58.49395751953125,\n",
       "  52.804771423339844,\n",
       "  48.97145462036133,\n",
       "  44.63538360595703,\n",
       "  41.89765548706055,\n",
       "  38.48691940307617,\n",
       "  36.04460906982422,\n",
       "  34.147735595703125,\n",
       "  31.769102096557617,\n",
       "  30.75668716430664,\n",
       "  29.970050811767578,\n",
       "  28.561437606811523,\n",
       "  28.085914611816406,\n",
       "  27.334369659423828,\n",
       "  26.860219955444336,\n",
       "  26.25486946105957,\n",
       "  25.7076416015625,\n",
       "  25.14177703857422,\n",
       "  25.676334381103516,\n",
       "  25.156967163085938,\n",
       "  24.513206481933594,\n",
       "  24.88254737854004,\n",
       "  24.521724700927734,\n",
       "  24.66140365600586,\n",
       "  24.522815704345703,\n",
       "  24.96123695373535,\n",
       "  24.418434143066406,\n",
       "  24.896032333374023,\n",
       "  24.304767608642578,\n",
       "  23.904159545898438,\n",
       "  24.763647079467773,\n",
       "  24.126197814941406,\n",
       "  24.17154312133789,\n",
       "  24.556718826293945,\n",
       "  24.148189544677734,\n",
       "  24.48754119873047,\n",
       "  24.613323211669922,\n",
       "  24.458786010742188,\n",
       "  24.374799728393555,\n",
       "  24.282304763793945,\n",
       "  24.25726890563965,\n",
       "  24.152626037597656,\n",
       "  24.639179229736328,\n",
       "  24.406003952026367,\n",
       "  24.25693130493164,\n",
       "  24.179561614990234,\n",
       "  24.243349075317383,\n",
       "  24.115081787109375,\n",
       "  24.825468063354492,\n",
       "  24.30689811706543,\n",
       "  24.59055519104004,\n",
       "  24.205102920532227,\n",
       "  24.1971378326416,\n",
       "  24.4735050201416,\n",
       "  24.704235076904297,\n",
       "  23.988008499145508,\n",
       "  24.74065589904785,\n",
       "  24.21055793762207,\n",
       "  24.2657527923584,\n",
       "  24.46673583984375,\n",
       "  24.088119506835938,\n",
       "  25.145000457763672,\n",
       "  23.92958641052246,\n",
       "  24.478113174438477,\n",
       "  24.09942054748535,\n",
       "  24.300508499145508,\n",
       "  24.32637596130371,\n",
       "  24.34693717956543,\n",
       "  24.42034912109375,\n",
       "  24.37714195251465,\n",
       "  24.183658599853516,\n",
       "  23.922407150268555,\n",
       "  24.062606811523438,\n",
       "  24.05071449279785,\n",
       "  24.411758422851562,\n",
       "  24.332229614257812,\n",
       "  24.312402725219727,\n",
       "  24.348407745361328,\n",
       "  24.26020050048828,\n",
       "  24.068622589111328,\n",
       "  24.24315071105957,\n",
       "  24.339252471923828,\n",
       "  25.037982940673828,\n",
       "  24.352840423583984]}"
      ]
     },
     "execution_count": 35,
     "metadata": {},
     "output_type": "execute_result"
    }
   ],
   "source": [
    "model.history.history"
   ]
  },
  {
   "cell_type": "code",
   "execution_count": 36,
   "metadata": {
    "colab": {
     "base_uri": "https://localhost:8080/",
     "height": 424
    },
    "id": "RdRMKk-5YGAO",
    "outputId": "fb0775f2-e974-4bc6-d1ce-eed94d142948"
   },
   "outputs": [
    {
     "data": {
      "text/html": [
       "<div>\n",
       "<style scoped>\n",
       "    .dataframe tbody tr th:only-of-type {\n",
       "        vertical-align: middle;\n",
       "    }\n",
       "\n",
       "    .dataframe tbody tr th {\n",
       "        vertical-align: top;\n",
       "    }\n",
       "\n",
       "    .dataframe thead th {\n",
       "        text-align: right;\n",
       "    }\n",
       "</style>\n",
       "<table border=\"1\" class=\"dataframe\">\n",
       "  <thead>\n",
       "    <tr style=\"text-align: right;\">\n",
       "      <th></th>\n",
       "      <th>loss</th>\n",
       "    </tr>\n",
       "  </thead>\n",
       "  <tbody>\n",
       "    <tr>\n",
       "      <th>0</th>\n",
       "      <td>256696.016</td>\n",
       "    </tr>\n",
       "    <tr>\n",
       "      <th>1</th>\n",
       "      <td>256628.891</td>\n",
       "    </tr>\n",
       "    <tr>\n",
       "      <th>2</th>\n",
       "      <td>256551.641</td>\n",
       "    </tr>\n",
       "    <tr>\n",
       "      <th>3</th>\n",
       "      <td>256456.891</td>\n",
       "    </tr>\n",
       "    <tr>\n",
       "      <th>4</th>\n",
       "      <td>256340.609</td>\n",
       "    </tr>\n",
       "    <tr>\n",
       "      <th>...</th>\n",
       "      <td>...</td>\n",
       "    </tr>\n",
       "    <tr>\n",
       "      <th>245</th>\n",
       "      <td>24.069</td>\n",
       "    </tr>\n",
       "    <tr>\n",
       "      <th>246</th>\n",
       "      <td>24.243</td>\n",
       "    </tr>\n",
       "    <tr>\n",
       "      <th>247</th>\n",
       "      <td>24.339</td>\n",
       "    </tr>\n",
       "    <tr>\n",
       "      <th>248</th>\n",
       "      <td>25.038</td>\n",
       "    </tr>\n",
       "    <tr>\n",
       "      <th>249</th>\n",
       "      <td>24.353</td>\n",
       "    </tr>\n",
       "  </tbody>\n",
       "</table>\n",
       "<p>250 rows × 1 columns</p>\n",
       "</div>"
      ],
      "text/plain": [
       "          loss\n",
       "0   256696.016\n",
       "1   256628.891\n",
       "2   256551.641\n",
       "3   256456.891\n",
       "4   256340.609\n",
       "..         ...\n",
       "245     24.069\n",
       "246     24.243\n",
       "247     24.339\n",
       "248     25.038\n",
       "249     24.353\n",
       "\n",
       "[250 rows x 1 columns]"
      ]
     },
     "execution_count": 36,
     "metadata": {},
     "output_type": "execute_result"
    }
   ],
   "source": [
    "pd.DataFrame(model.history.history)"
   ]
  },
  {
   "cell_type": "code",
   "execution_count": 37,
   "metadata": {
    "colab": {
     "base_uri": "https://localhost:8080/",
     "height": 374
    },
    "id": "nQo81WikYGAO",
    "outputId": "0d82b10f-dc38-4a24-8649-bbf2c641fd14"
   },
   "outputs": [
    {
     "data": {
      "image/png": "[encoded data removed]",
      "text/plain": [
       "<Figure size 576x432 with 1 Axes>"
      ]
     },
     "metadata": {},
     "output_type": "display_data"
    }
   ],
   "source": [
    "loss_df = pd.DataFrame(model.history.history)\n",
    "loss_df.plot();"
   ]
  },
  {
   "cell_type": "code",
   "execution_count": 38,
   "metadata": {
    "colab": {
     "base_uri": "https://localhost:8080/",
     "height": 404
    },
    "id": "I1m7YLuLYGAP",
    "outputId": "b0e24daa-3480-4339-c5d5-378c0f953b01"
   },
   "outputs": [
    {
     "data": {
      "image/png": "[encoded data removed]",
      "text/plain": [
       "<Figure size 576x432 with 1 Axes>"
      ]
     },
     "metadata": {},
     "output_type": "display_data"
    }
   ],
   "source": [
    "fig, ax= plt.subplots()\n",
    "ax.plot(loss_df)\n",
    "ax.set_xlabel(\"epoch\")\n",
    "ax.set_ylabel(\"loss\")\n",
    "ax.set_title(\"loss - epoch graph\")\n",
    "ax.set_xlim([0, 250]) # focusing on the given x values\n",
    "ax.set_ylim([0, 3000]); # focusing on the given y values "
   ]
  },
  {
   "cell_type": "markdown",
   "metadata": {
    "id": "XjsrwTyCYGAP"
   },
   "source": [
    "## Model Performance"
   ]
  },
  {
   "cell_type": "code",
   "execution_count": 39,
   "metadata": {
    "id": "7ZtTz4geYGAQ"
   },
   "outputs": [],
   "source": [
    "from sklearn.metrics import mean_squared_error, mean_absolute_error, r2_score"
   ]
  },
  {
   "cell_type": "code",
   "execution_count": 40,
   "metadata": {
    "colab": {
     "base_uri": "https://localhost:8080/"
    },
    "id": "vmFmyNveYGAQ",
    "outputId": "e6d44d64-a2c5-40fb-de59-b88df2544066"
   },
   "outputs": [
    {
     "data": {
      "text/plain": [
       "23.73021697998047"
      ]
     },
     "execution_count": 40,
     "metadata": {},
     "output_type": "execute_result"
    }
   ],
   "source": [
    "model.evaluate(X_train, y_train, verbose=0)\n",
    "\n",
    "# compile satırında loss parameteresinin karşısınıa ne yazarsak onun skoru/skorları döner.\n",
    "# model.evaluate arka planda burada predict yapıyor."
   ]
  },
  {
   "cell_type": "code",
   "execution_count": 41,
   "metadata": {
    "colab": {
     "base_uri": "https://localhost:8080/"
    },
    "id": "JrSDNHtXYGAQ",
    "outputId": "c13e25ea-911a-4681-b9ff-3bbd4facc424"
   },
   "outputs": [
    {
     "data": {
      "text/plain": [
       "25.099393844604492"
      ]
     },
     "execution_count": 41,
     "metadata": {},
     "output_type": "execute_result"
    }
   ],
   "source": [
    "model.evaluate(X_test, y_test, verbose=0)"
   ]
  },
  {
   "cell_type": "code",
   "execution_count": 42,
   "metadata": {},
   "outputs": [],
   "source": [
    "# şu şekilde de yapabiliriz : "
   ]
  },
  {
   "cell_type": "code",
   "execution_count": 43,
   "metadata": {
    "colab": {
     "base_uri": "https://localhost:8080/"
    },
    "id": "31BhQL3tYGAQ",
    "outputId": "431c6228-7a98-4811-97bf-a19539b04ac0"
   },
   "outputs": [
    {
     "name": "stdout",
     "output_type": "stream",
     "text": [
      "10/10 [==============================] - 0s 3ms/step\n"
     ]
    }
   ],
   "source": [
    "y_pred = model.predict(X_test)"
   ]
  },
  {
   "cell_type": "code",
   "execution_count": 44,
   "metadata": {},
   "outputs": [
    {
     "data": {
      "text/plain": [
       "(300, 1)"
      ]
     },
     "execution_count": 44,
     "metadata": {},
     "output_type": "execute_result"
    }
   ],
   "source": [
    "y_pred.shape"
   ]
  },
  {
   "cell_type": "code",
   "execution_count": 45,
   "metadata": {},
   "outputs": [
    {
     "data": {
      "text/plain": [
       "(300,)"
      ]
     },
     "execution_count": 45,
     "metadata": {},
     "output_type": "execute_result"
    }
   ],
   "source": [
    "y_test.shape"
   ]
  },
  {
   "cell_type": "code",
   "execution_count": 46,
   "metadata": {
    "colab": {
     "base_uri": "https://localhost:8080/",
     "height": 363
    },
    "id": "851iPS9eYGAR",
    "outputId": "5425a3a5-9d13-4076-fb6f-67240d7e772d"
   },
   "outputs": [
    {
     "data": {
      "text/html": [
       "<div>\n",
       "<style scoped>\n",
       "    .dataframe tbody tr th:only-of-type {\n",
       "        vertical-align: middle;\n",
       "    }\n",
       "\n",
       "    .dataframe tbody tr th {\n",
       "        vertical-align: top;\n",
       "    }\n",
       "\n",
       "    .dataframe thead th {\n",
       "        text-align: right;\n",
       "    }\n",
       "</style>\n",
       "<table border=\"1\" class=\"dataframe\">\n",
       "  <thead>\n",
       "    <tr style=\"text-align: right;\">\n",
       "      <th></th>\n",
       "      <th>Actual</th>\n",
       "      <th>Pred</th>\n",
       "    </tr>\n",
       "  </thead>\n",
       "  <tbody>\n",
       "    <tr>\n",
       "      <th>695</th>\n",
       "      <td>524.967</td>\n",
       "      <td>522.721</td>\n",
       "    </tr>\n",
       "    <tr>\n",
       "      <th>86</th>\n",
       "      <td>411.638</td>\n",
       "      <td>417.882</td>\n",
       "    </tr>\n",
       "    <tr>\n",
       "      <th>644</th>\n",
       "      <td>564.112</td>\n",
       "      <td>562.898</td>\n",
       "    </tr>\n",
       "    <tr>\n",
       "      <th>299</th>\n",
       "      <td>503.514</td>\n",
       "      <td>502.259</td>\n",
       "    </tr>\n",
       "    <tr>\n",
       "      <th>77</th>\n",
       "      <td>507.434</td>\n",
       "      <td>506.114</td>\n",
       "    </tr>\n",
       "    <tr>\n",
       "      <th>845</th>\n",
       "      <td>579.431</td>\n",
       "      <td>578.301</td>\n",
       "    </tr>\n",
       "    <tr>\n",
       "      <th>946</th>\n",
       "      <td>594.840</td>\n",
       "      <td>598.689</td>\n",
       "    </tr>\n",
       "    <tr>\n",
       "      <th>587</th>\n",
       "      <td>512.584</td>\n",
       "      <td>517.653</td>\n",
       "    </tr>\n",
       "    <tr>\n",
       "      <th>501</th>\n",
       "      <td>315.519</td>\n",
       "      <td>321.548</td>\n",
       "    </tr>\n",
       "    <tr>\n",
       "      <th>382</th>\n",
       "      <td>612.754</td>\n",
       "      <td>617.429</td>\n",
       "    </tr>\n",
       "  </tbody>\n",
       "</table>\n",
       "</div>"
      ],
      "text/plain": [
       "     Actual    Pred\n",
       "695 524.967 522.721\n",
       "86  411.638 417.882\n",
       "644 564.112 562.898\n",
       "299 503.514 502.259\n",
       "77  507.434 506.114\n",
       "845 579.431 578.301\n",
       "946 594.840 598.689\n",
       "587 512.584 517.653\n",
       "501 315.519 321.548\n",
       "382 612.754 617.429"
      ]
     },
     "execution_count": 46,
     "metadata": {},
     "output_type": "execute_result"
    }
   ],
   "source": [
    "my_dict = {\"Actual\" : y_test, \"Pred\" : y_pred.reshape(-1,)}   # y_pred'in sonucu 2 boyutlu bir aray\n",
    "compare = pd.DataFrame(my_dict)\n",
    "compare.sample(10)"
   ]
  },
  {
   "cell_type": "code",
   "execution_count": 47,
   "metadata": {
    "id": "qhvwQBwkYGAR"
   },
   "outputs": [],
   "source": [
    "def eval_metric(actual, pred):\n",
    "    mae = mean_absolute_error(actual, pred)\n",
    "    mse = mean_squared_error(actual, pred)\n",
    "    rmse = mean_squared_error(actual, pred,squared=False)\n",
    "    score = r2_score(actual, pred)\n",
    "    return print(\"r2_score:\", score, \"\\nmae:\", mae, \"\\nmse:\", mse, \"\\nrmse:\", rmse)"
   ]
  },
  {
   "cell_type": "code",
   "execution_count": 48,
   "metadata": {
    "colab": {
     "base_uri": "https://localhost:8080/"
    },
    "id": "ebkLLagIYGAR",
    "outputId": "f0254f5d-cf6e-4faa-a0de-ab8432c7f99c"
   },
   "outputs": [
    {
     "name": "stdout",
     "output_type": "stream",
     "text": [
      "r2_score: 0.9971452106431782 \n",
      "mae: 4.017088627944382 \n",
      "mse: 25.09939842326047 \n",
      "rmse: 5.009929981872049\n"
     ]
    }
   ],
   "source": [
    "eval_metric(y_test, y_pred)"
   ]
  },
  {
   "cell_type": "markdown",
   "metadata": {
    "id": "oKEYU7AdYGAR"
   },
   "source": [
    "## Final Model and Model Deployment"
   ]
  },
  {
   "cell_type": "markdown",
   "metadata": {
    "id": "APF0TKXZYGAS"
   },
   "source": [
    "### Final Model Training"
   ]
  },
  {
   "cell_type": "code",
   "execution_count": 49,
   "metadata": {
    "id": "kIYJpUs8YGAS"
   },
   "outputs": [],
   "source": [
    "scaler = MinMaxScaler().fit(X)"
   ]
  },
  {
   "cell_type": "code",
   "execution_count": 50,
   "metadata": {
    "id": "4H_I5VSCYGAS"
   },
   "outputs": [],
   "source": [
    "import pickle\n",
    "pickle.dump(scaler, open(\"scaler_fake_reg\", 'wb'))"
   ]
  },
  {
   "cell_type": "code",
   "execution_count": 51,
   "metadata": {
    "id": "4SFqBUE6YGAS"
   },
   "outputs": [
    {
     "data": {
      "text/plain": [
       "array([[0.44380388, 0.4885581 ],\n",
       "       [0.29323398, 0.71363026],\n",
       "       [0.48977598, 0.32595231],\n",
       "       ...,\n",
       "       [0.7144056 , 0.32658556],\n",
       "       [0.60372768, 0.27637009],\n",
       "       [0.35350286, 0.78575664]])"
      ]
     },
     "execution_count": 51,
     "metadata": {},
     "output_type": "execute_result"
    }
   ],
   "source": [
    "X_scaled = scaler.transform(X)\n",
    "X_scaled"
   ]
  },
  {
   "cell_type": "code",
   "execution_count": 52,
   "metadata": {
    "colab": {
     "base_uri": "https://localhost:8080/"
    },
    "id": "D2PHOzS1YGAS",
    "outputId": "a27e4fc2-be60-490f-9685-ec1e966d605d",
    "scrolled": true
   },
   "outputs": [],
   "source": [
    "final_model = Sequential()\n",
    "\n",
    "final_model.add(Dense(units = 4, activation = \"relu\"))     # input_dim = 2 or input_dim = X_train.shape[1]\n",
    "final_model.add(Dense(units = 4, activation = \"relu\"))\n",
    "final_model.add(Dense(units = 4, activation = \"relu\"))\n",
    "final_model.add(Dense(1))\n",
    "\n",
    "final_model.compile(optimizer = \"rmsprop\", loss = \"mse\")"
   ]
  },
  {
   "cell_type": "code",
   "execution_count": 53,
   "metadata": {},
   "outputs": [],
   "source": [
    "#final_model.summary()"
   ]
  },
  {
   "cell_type": "code",
   "execution_count": 54,
   "metadata": {},
   "outputs": [],
   "source": [
    "#final_model.weights"
   ]
  },
  {
   "cell_type": "code",
   "execution_count": 55,
   "metadata": {
    "scrolled": true
   },
   "outputs": [
    {
     "name": "stdout",
     "output_type": "stream",
     "text": [
      "Epoch 1/250\n",
      "32/32 [==============================] - 1s 3ms/step - loss: 257365.3750\n",
      "Epoch 2/250\n",
      "32/32 [==============================] - 0s 3ms/step - loss: 257255.3281\n",
      "Epoch 3/250\n",
      "32/32 [==============================] - 0s 3ms/step - loss: 257124.3906\n",
      "Epoch 4/250\n",
      "32/32 [==============================] - 0s 3ms/step - loss: 256964.9375\n",
      "Epoch 5/250\n",
      "32/32 [==============================] - 0s 4ms/step - loss: 256772.2188\n",
      "Epoch 6/250\n",
      "32/32 [==============================] - 0s 4ms/step - loss: 256541.3906\n",
      "Epoch 7/250\n",
      "32/32 [==============================] - 0s 3ms/step - loss: 256266.6562\n",
      "Epoch 8/250\n",
      "32/32 [==============================] - 0s 4ms/step - loss: 255941.2656\n",
      "Epoch 9/250\n",
      "32/32 [==============================] - 0s 3ms/step - loss: 255563.9844\n",
      "Epoch 10/250\n",
      "32/32 [==============================] - 0s 4ms/step - loss: 255120.7500\n",
      "Epoch 11/250\n",
      "32/32 [==============================] - 0s 4ms/step - loss: 254613.0312\n",
      "Epoch 12/250\n",
      "32/32 [==============================] - 0s 3ms/step - loss: 254031.0312\n",
      "Epoch 13/250\n",
      "32/32 [==============================] - 0s 4ms/step - loss: 253368.7656\n",
      "Epoch 14/250\n",
      "32/32 [==============================] - 0s 4ms/step - loss: 252618.9688\n",
      "Epoch 15/250\n",
      "32/32 [==============================] - 0s 4ms/step - loss: 251769.2812\n",
      "Epoch 16/250\n",
      "32/32 [==============================] - 0s 4ms/step - loss: 250814.8438\n",
      "Epoch 17/250\n",
      "32/32 [==============================] - 0s 3ms/step - loss: 249757.0625\n",
      "Epoch 18/250\n",
      "32/32 [==============================] - 0s 3ms/step - loss: 248577.8750\n",
      "Epoch 19/250\n",
      "32/32 [==============================] - 0s 3ms/step - loss: 247269.7812\n",
      "Epoch 20/250\n",
      "32/32 [==============================] - 0s 3ms/step - loss: 245825.2656\n",
      "Epoch 21/250\n",
      "32/32 [==============================] - 0s 2ms/step - loss: 244235.5000\n",
      "Epoch 22/250\n",
      "32/32 [==============================] - 0s 3ms/step - loss: 242496.1562\n",
      "Epoch 23/250\n",
      "32/32 [==============================] - 0s 3ms/step - loss: 240591.0469\n",
      "Epoch 24/250\n",
      "32/32 [==============================] - 0s 3ms/step - loss: 238539.9688\n",
      "Epoch 25/250\n",
      "32/32 [==============================] - 0s 4ms/step - loss: 236297.5938\n",
      "Epoch 26/250\n",
      "32/32 [==============================] - 0s 4ms/step - loss: 233865.7812\n",
      "Epoch 27/250\n",
      "32/32 [==============================] - 0s 3ms/step - loss: 231249.7812\n",
      "Epoch 28/250\n",
      "32/32 [==============================] - 0s 3ms/step - loss: 228441.3750\n",
      "Epoch 29/250\n",
      "32/32 [==============================] - 0s 3ms/step - loss: 225411.3906\n",
      "Epoch 30/250\n",
      "32/32 [==============================] - 0s 3ms/step - loss: 222174.5781\n",
      "Epoch 31/250\n",
      "32/32 [==============================] - 0s 4ms/step - loss: 218729.4688\n",
      "Epoch 32/250\n",
      "32/32 [==============================] - 0s 4ms/step - loss: 215031.7188\n",
      "Epoch 33/250\n",
      "32/32 [==============================] - 0s 4ms/step - loss: 211104.3594\n",
      "Epoch 34/250\n",
      "32/32 [==============================] - 0s 3ms/step - loss: 206960.1250\n",
      "Epoch 35/250\n",
      "32/32 [==============================] - 0s 3ms/step - loss: 202575.8594\n",
      "Epoch 36/250\n",
      "32/32 [==============================] - 0s 3ms/step - loss: 197948.7031\n",
      "Epoch 37/250\n",
      "32/32 [==============================] - 0s 4ms/step - loss: 193050.2656\n",
      "Epoch 38/250\n",
      "32/32 [==============================] - 0s 4ms/step - loss: 187916.8750\n",
      "Epoch 39/250\n",
      "32/32 [==============================] - 0s 3ms/step - loss: 182556.4062\n",
      "Epoch 40/250\n",
      "32/32 [==============================] - 0s 3ms/step - loss: 176937.7812\n",
      "Epoch 41/250\n",
      "32/32 [==============================] - 0s 3ms/step - loss: 171055.3906\n",
      "Epoch 42/250\n",
      "32/32 [==============================] - 0s 5ms/step - loss: 164963.6250\n",
      "Epoch 43/250\n",
      "32/32 [==============================] - 0s 3ms/step - loss: 158667.0625\n",
      "Epoch 44/250\n",
      "32/32 [==============================] - 0s 3ms/step - loss: 152115.1719\n",
      "Epoch 45/250\n",
      "32/32 [==============================] - 0s 3ms/step - loss: 145336.1875\n",
      "Epoch 46/250\n",
      "32/32 [==============================] - 0s 2ms/step - loss: 138391.4375\n",
      "Epoch 47/250\n",
      "32/32 [==============================] - 0s 2ms/step - loss: 131214.2188\n",
      "Epoch 48/250\n",
      "32/32 [==============================] - 0s 3ms/step - loss: 123930.5781\n",
      "Epoch 49/250\n",
      "32/32 [==============================] - 0s 3ms/step - loss: 116485.4219\n",
      "Epoch 50/250\n",
      "32/32 [==============================] - 0s 3ms/step - loss: 108890.7656\n",
      "Epoch 51/250\n",
      "32/32 [==============================] - 0s 3ms/step - loss: 101256.1406\n",
      "Epoch 52/250\n",
      "32/32 [==============================] - 0s 3ms/step - loss: 93492.2109\n",
      "Epoch 53/250\n",
      "32/32 [==============================] - 0s 3ms/step - loss: 85731.6250\n",
      "Epoch 54/250\n",
      "32/32 [==============================] - 0s 3ms/step - loss: 77991.8906\n",
      "Epoch 55/250\n",
      "32/32 [==============================] - 0s 3ms/step - loss: 70298.1172\n",
      "Epoch 56/250\n",
      "32/32 [==============================] - 0s 3ms/step - loss: 62695.8320\n",
      "Epoch 57/250\n",
      "32/32 [==============================] - 0s 3ms/step - loss: 55244.5703\n",
      "Epoch 58/250\n",
      "32/32 [==============================] - 0s 3ms/step - loss: 48009.2109\n",
      "Epoch 59/250\n",
      "32/32 [==============================] - 0s 4ms/step - loss: 41000.9609\n",
      "Epoch 60/250\n",
      "32/32 [==============================] - 0s 4ms/step - loss: 34350.6211\n",
      "Epoch 61/250\n",
      "32/32 [==============================] - 0s 3ms/step - loss: 28082.0996\n",
      "Epoch 62/250\n",
      "32/32 [==============================] - 0s 4ms/step - loss: 22332.6973\n",
      "Epoch 63/250\n",
      "32/32 [==============================] - 0s 5ms/step - loss: 17091.0840\n",
      "Epoch 64/250\n",
      "32/32 [==============================] - 0s 4ms/step - loss: 12564.1221\n",
      "Epoch 65/250\n",
      "32/32 [==============================] - 0s 3ms/step - loss: 8772.9961\n",
      "Epoch 66/250\n",
      "32/32 [==============================] - 0s 2ms/step - loss: 5737.4751\n",
      "Epoch 67/250\n",
      "32/32 [==============================] - 0s 3ms/step - loss: 3581.0149\n",
      "Epoch 68/250\n",
      "32/32 [==============================] - 0s 3ms/step - loss: 2370.1958\n",
      "Epoch 69/250\n",
      "32/32 [==============================] - 0s 3ms/step - loss: 1925.3792\n",
      "Epoch 70/250\n",
      "32/32 [==============================] - 0s 3ms/step - loss: 1854.5459\n",
      "Epoch 71/250\n",
      "32/32 [==============================] - 0s 3ms/step - loss: 1814.5956\n",
      "Epoch 72/250\n",
      "32/32 [==============================] - 0s 3ms/step - loss: 1776.4470\n",
      "Epoch 73/250\n",
      "32/32 [==============================] - 0s 3ms/step - loss: 1739.1321\n",
      "Epoch 74/250\n",
      "32/32 [==============================] - 0s 3ms/step - loss: 1704.7832\n",
      "Epoch 75/250\n",
      "32/32 [==============================] - 0s 3ms/step - loss: 1664.0741\n",
      "Epoch 76/250\n",
      "32/32 [==============================] - 0s 3ms/step - loss: 1626.4722\n",
      "Epoch 77/250\n",
      "32/32 [==============================] - 0s 3ms/step - loss: 1586.3282\n",
      "Epoch 78/250\n",
      "32/32 [==============================] - 0s 2ms/step - loss: 1550.8663\n",
      "Epoch 79/250\n",
      "32/32 [==============================] - 0s 3ms/step - loss: 1513.9202\n",
      "Epoch 80/250\n",
      "32/32 [==============================] - 0s 3ms/step - loss: 1474.9277\n",
      "Epoch 81/250\n",
      "32/32 [==============================] - 0s 3ms/step - loss: 1446.1289\n",
      "Epoch 82/250\n",
      "32/32 [==============================] - 0s 3ms/step - loss: 1408.8477\n",
      "Epoch 83/250\n",
      "32/32 [==============================] - 0s 5ms/step - loss: 1373.9156\n",
      "Epoch 84/250\n",
      "32/32 [==============================] - 0s 3ms/step - loss: 1340.5707\n",
      "Epoch 85/250\n",
      "32/32 [==============================] - 0s 3ms/step - loss: 1305.7466\n",
      "Epoch 86/250\n",
      "32/32 [==============================] - 0s 2ms/step - loss: 1272.9116\n",
      "Epoch 87/250\n",
      "32/32 [==============================] - 0s 3ms/step - loss: 1237.1639\n",
      "Epoch 88/250\n",
      "32/32 [==============================] - 0s 2ms/step - loss: 1202.5300\n",
      "Epoch 89/250\n",
      "32/32 [==============================] - 0s 3ms/step - loss: 1167.5055\n",
      "Epoch 90/250\n",
      "32/32 [==============================] - 0s 3ms/step - loss: 1134.6152\n",
      "Epoch 91/250\n",
      "32/32 [==============================] - 0s 4ms/step - loss: 1101.7343\n",
      "Epoch 92/250\n",
      "32/32 [==============================] - 0s 4ms/step - loss: 1069.0341\n",
      "Epoch 93/250\n",
      "32/32 [==============================] - 0s 3ms/step - loss: 1034.5669\n",
      "Epoch 94/250\n",
      "32/32 [==============================] - 0s 3ms/step - loss: 999.2485\n",
      "Epoch 95/250\n",
      "32/32 [==============================] - 0s 3ms/step - loss: 965.9506\n",
      "Epoch 96/250\n",
      "32/32 [==============================] - 0s 3ms/step - loss: 934.9718\n",
      "Epoch 97/250\n"
     ]
    },
    {
     "name": "stdout",
     "output_type": "stream",
     "text": [
      "32/32 [==============================] - 0s 3ms/step - loss: 904.9053\n",
      "Epoch 98/250\n",
      "32/32 [==============================] - 0s 3ms/step - loss: 874.9174\n",
      "Epoch 99/250\n",
      "32/32 [==============================] - 0s 2ms/step - loss: 846.2573\n",
      "Epoch 100/250\n",
      "32/32 [==============================] - 0s 2ms/step - loss: 815.4785\n",
      "Epoch 101/250\n",
      "32/32 [==============================] - 0s 2ms/step - loss: 786.2554\n",
      "Epoch 102/250\n",
      "32/32 [==============================] - 0s 3ms/step - loss: 758.6158\n",
      "Epoch 103/250\n",
      "32/32 [==============================] - 0s 3ms/step - loss: 732.1699\n",
      "Epoch 104/250\n",
      "32/32 [==============================] - 0s 3ms/step - loss: 707.0669\n",
      "Epoch 105/250\n",
      "32/32 [==============================] - 0s 3ms/step - loss: 679.6428\n",
      "Epoch 106/250\n",
      "32/32 [==============================] - 0s 3ms/step - loss: 654.8338\n",
      "Epoch 107/250\n",
      "32/32 [==============================] - 0s 3ms/step - loss: 632.8140\n",
      "Epoch 108/250\n",
      "32/32 [==============================] - 0s 3ms/step - loss: 608.1257\n",
      "Epoch 109/250\n",
      "32/32 [==============================] - 0s 3ms/step - loss: 584.2812\n",
      "Epoch 110/250\n",
      "32/32 [==============================] - 0s 3ms/step - loss: 561.1469\n",
      "Epoch 111/250\n",
      "32/32 [==============================] - 0s 3ms/step - loss: 537.5220\n",
      "Epoch 112/250\n",
      "32/32 [==============================] - 0s 3ms/step - loss: 511.4889\n",
      "Epoch 113/250\n",
      "32/32 [==============================] - 0s 3ms/step - loss: 487.4232\n",
      "Epoch 114/250\n",
      "32/32 [==============================] - 0s 3ms/step - loss: 468.2244\n",
      "Epoch 115/250\n",
      "32/32 [==============================] - 0s 3ms/step - loss: 446.4371\n",
      "Epoch 116/250\n",
      "32/32 [==============================] - 0s 3ms/step - loss: 424.0862\n",
      "Epoch 117/250\n",
      "32/32 [==============================] - 0s 2ms/step - loss: 403.9383\n",
      "Epoch 118/250\n",
      "32/32 [==============================] - 0s 3ms/step - loss: 382.9350\n",
      "Epoch 119/250\n",
      "32/32 [==============================] - 0s 3ms/step - loss: 364.3161\n",
      "Epoch 120/250\n",
      "32/32 [==============================] - 0s 3ms/step - loss: 344.9280\n",
      "Epoch 121/250\n",
      "32/32 [==============================] - 0s 3ms/step - loss: 326.7267\n",
      "Epoch 122/250\n",
      "32/32 [==============================] - 0s 3ms/step - loss: 309.3144\n",
      "Epoch 123/250\n",
      "32/32 [==============================] - 0s 3ms/step - loss: 289.6827\n",
      "Epoch 124/250\n",
      "32/32 [==============================] - 0s 3ms/step - loss: 271.1000\n",
      "Epoch 125/250\n",
      "32/32 [==============================] - 0s 3ms/step - loss: 252.2946\n",
      "Epoch 126/250\n",
      "32/32 [==============================] - 0s 3ms/step - loss: 236.0048\n",
      "Epoch 127/250\n",
      "32/32 [==============================] - 0s 3ms/step - loss: 222.0422\n",
      "Epoch 128/250\n",
      "32/32 [==============================] - 0s 3ms/step - loss: 207.1801\n",
      "Epoch 129/250\n",
      "32/32 [==============================] - 0s 3ms/step - loss: 194.2310\n",
      "Epoch 130/250\n",
      "32/32 [==============================] - 0s 2ms/step - loss: 182.7583\n",
      "Epoch 131/250\n",
      "32/32 [==============================] - 0s 3ms/step - loss: 170.3454\n",
      "Epoch 132/250\n",
      "32/32 [==============================] - 0s 2ms/step - loss: 157.9447\n",
      "Epoch 133/250\n",
      "32/32 [==============================] - 0s 3ms/step - loss: 146.7977\n",
      "Epoch 134/250\n",
      "32/32 [==============================] - 0s 2ms/step - loss: 134.8134\n",
      "Epoch 135/250\n",
      "32/32 [==============================] - 0s 2ms/step - loss: 123.9429\n",
      "Epoch 136/250\n",
      "32/32 [==============================] - 0s 3ms/step - loss: 113.8296\n",
      "Epoch 137/250\n",
      "32/32 [==============================] - 0s 3ms/step - loss: 105.2622\n",
      "Epoch 138/250\n",
      "32/32 [==============================] - 0s 2ms/step - loss: 98.3639\n",
      "Epoch 139/250\n",
      "32/32 [==============================] - 0s 3ms/step - loss: 90.0288\n",
      "Epoch 140/250\n",
      "32/32 [==============================] - 0s 3ms/step - loss: 83.4693\n",
      "Epoch 141/250\n",
      "32/32 [==============================] - 0s 3ms/step - loss: 76.7392\n",
      "Epoch 142/250\n",
      "32/32 [==============================] - 0s 3ms/step - loss: 70.8878\n",
      "Epoch 143/250\n",
      "32/32 [==============================] - 0s 3ms/step - loss: 64.6990\n",
      "Epoch 144/250\n",
      "32/32 [==============================] - 0s 4ms/step - loss: 59.6324\n",
      "Epoch 145/250\n",
      "32/32 [==============================] - 0s 3ms/step - loss: 54.6510\n",
      "Epoch 146/250\n",
      "32/32 [==============================] - 0s 2ms/step - loss: 50.4697\n",
      "Epoch 147/250\n",
      "32/32 [==============================] - 0s 3ms/step - loss: 45.9878\n",
      "Epoch 148/250\n",
      "32/32 [==============================] - 0s 2ms/step - loss: 42.7150\n",
      "Epoch 149/250\n",
      "32/32 [==============================] - 0s 3ms/step - loss: 40.0096\n",
      "Epoch 150/250\n",
      "32/32 [==============================] - 0s 3ms/step - loss: 36.8750\n",
      "Epoch 151/250\n",
      "32/32 [==============================] - 0s 3ms/step - loss: 35.0626\n",
      "Epoch 152/250\n",
      "32/32 [==============================] - 0s 2ms/step - loss: 33.4157\n",
      "Epoch 153/250\n",
      "32/32 [==============================] - 0s 2ms/step - loss: 32.2067\n",
      "Epoch 154/250\n",
      "32/32 [==============================] - 0s 3ms/step - loss: 31.1370\n",
      "Epoch 155/250\n",
      "32/32 [==============================] - 0s 3ms/step - loss: 29.6001\n",
      "Epoch 156/250\n",
      "32/32 [==============================] - 0s 3ms/step - loss: 28.9830\n",
      "Epoch 157/250\n",
      "32/32 [==============================] - 0s 3ms/step - loss: 27.8595\n",
      "Epoch 158/250\n",
      "32/32 [==============================] - 0s 3ms/step - loss: 27.2223\n",
      "Epoch 159/250\n",
      "32/32 [==============================] - 0s 2ms/step - loss: 26.7298\n",
      "Epoch 160/250\n",
      "32/32 [==============================] - 0s 3ms/step - loss: 26.3602\n",
      "Epoch 161/250\n",
      "32/32 [==============================] - 0s 2ms/step - loss: 26.1141\n",
      "Epoch 162/250\n",
      "32/32 [==============================] - 0s 3ms/step - loss: 25.9221\n",
      "Epoch 163/250\n",
      "32/32 [==============================] - 0s 3ms/step - loss: 25.2416\n",
      "Epoch 164/250\n",
      "32/32 [==============================] - 0s 3ms/step - loss: 25.4582\n",
      "Epoch 165/250\n",
      "32/32 [==============================] - 0s 3ms/step - loss: 25.1283\n",
      "Epoch 166/250\n",
      "32/32 [==============================] - 0s 3ms/step - loss: 24.9749\n",
      "Epoch 167/250\n",
      "32/32 [==============================] - 0s 3ms/step - loss: 25.1776\n",
      "Epoch 168/250\n",
      "32/32 [==============================] - 0s 2ms/step - loss: 24.5589\n",
      "Epoch 169/250\n",
      "32/32 [==============================] - 0s 2ms/step - loss: 24.8292\n",
      "Epoch 170/250\n",
      "32/32 [==============================] - 0s 2ms/step - loss: 24.7225\n",
      "Epoch 171/250\n",
      "32/32 [==============================] - 0s 3ms/step - loss: 24.8268\n",
      "Epoch 172/250\n",
      "32/32 [==============================] - 0s 2ms/step - loss: 24.6670\n",
      "Epoch 173/250\n",
      "32/32 [==============================] - 0s 3ms/step - loss: 24.7493\n",
      "Epoch 174/250\n",
      "32/32 [==============================] - 0s 2ms/step - loss: 24.3366\n",
      "Epoch 175/250\n",
      "32/32 [==============================] - 0s 2ms/step - loss: 24.6923\n",
      "Epoch 176/250\n",
      "32/32 [==============================] - 0s 2ms/step - loss: 24.8065\n",
      "Epoch 177/250\n",
      "32/32 [==============================] - 0s 3ms/step - loss: 24.6633\n",
      "Epoch 178/250\n",
      "32/32 [==============================] - 0s 3ms/step - loss: 24.2978\n",
      "Epoch 179/250\n",
      "32/32 [==============================] - 0s 2ms/step - loss: 24.4926\n",
      "Epoch 180/250\n",
      "32/32 [==============================] - 0s 2ms/step - loss: 24.6915\n",
      "Epoch 181/250\n",
      "32/32 [==============================] - 0s 3ms/step - loss: 24.6598\n",
      "Epoch 182/250\n",
      "32/32 [==============================] - 0s 2ms/step - loss: 24.6816\n",
      "Epoch 183/250\n",
      "32/32 [==============================] - 0s 2ms/step - loss: 24.6818\n",
      "Epoch 184/250\n",
      "32/32 [==============================] - 0s 2ms/step - loss: 24.1542\n",
      "Epoch 185/250\n",
      "32/32 [==============================] - 0s 3ms/step - loss: 25.1109\n",
      "Epoch 186/250\n",
      "32/32 [==============================] - 0s 3ms/step - loss: 24.4329\n",
      "Epoch 187/250\n",
      "32/32 [==============================] - 0s 4ms/step - loss: 24.6099\n",
      "Epoch 188/250\n",
      "32/32 [==============================] - 0s 3ms/step - loss: 24.6014\n",
      "Epoch 189/250\n",
      "32/32 [==============================] - 0s 3ms/step - loss: 24.6615\n",
      "Epoch 190/250\n",
      "32/32 [==============================] - 0s 2ms/step - loss: 24.5266\n",
      "Epoch 191/250\n",
      "32/32 [==============================] - 0s 3ms/step - loss: 24.5313\n",
      "Epoch 192/250\n",
      "32/32 [==============================] - 0s 2ms/step - loss: 24.5024\n",
      "Epoch 193/250\n",
      "32/32 [==============================] - 0s 3ms/step - loss: 24.6743\n",
      "Epoch 194/250\n",
      "32/32 [==============================] - 0s 2ms/step - loss: 24.4462\n",
      "Epoch 195/250\n"
     ]
    },
    {
     "name": "stdout",
     "output_type": "stream",
     "text": [
      "32/32 [==============================] - 0s 3ms/step - loss: 24.4479\n",
      "Epoch 196/250\n",
      "32/32 [==============================] - 0s 3ms/step - loss: 24.5443\n",
      "Epoch 197/250\n",
      "32/32 [==============================] - 0s 2ms/step - loss: 24.4293\n",
      "Epoch 198/250\n",
      "32/32 [==============================] - 0s 2ms/step - loss: 24.4174\n",
      "Epoch 199/250\n",
      "32/32 [==============================] - 0s 3ms/step - loss: 24.6278\n",
      "Epoch 200/250\n",
      "32/32 [==============================] - 0s 3ms/step - loss: 24.6637\n",
      "Epoch 201/250\n",
      "32/32 [==============================] - 0s 3ms/step - loss: 24.6922\n",
      "Epoch 202/250\n",
      "32/32 [==============================] - 0s 2ms/step - loss: 24.5440\n",
      "Epoch 203/250\n",
      "32/32 [==============================] - 0s 2ms/step - loss: 24.4290\n",
      "Epoch 204/250\n",
      "32/32 [==============================] - 0s 2ms/step - loss: 24.5480\n",
      "Epoch 205/250\n",
      "32/32 [==============================] - 0s 2ms/step - loss: 24.6207\n",
      "Epoch 206/250\n",
      "32/32 [==============================] - 0s 2ms/step - loss: 24.5307\n",
      "Epoch 207/250\n",
      "32/32 [==============================] - 0s 3ms/step - loss: 24.9102\n",
      "Epoch 208/250\n",
      "32/32 [==============================] - 0s 3ms/step - loss: 24.8464\n",
      "Epoch 209/250\n",
      "32/32 [==============================] - 0s 3ms/step - loss: 24.3218\n",
      "Epoch 210/250\n",
      "32/32 [==============================] - 0s 3ms/step - loss: 24.6578\n",
      "Epoch 211/250\n",
      "32/32 [==============================] - 0s 3ms/step - loss: 24.4473\n",
      "Epoch 212/250\n",
      "32/32 [==============================] - 0s 4ms/step - loss: 24.5616\n",
      "Epoch 213/250\n",
      "32/32 [==============================] - 0s 3ms/step - loss: 24.6802\n",
      "Epoch 214/250\n",
      "32/32 [==============================] - 0s 3ms/step - loss: 24.6798\n",
      "Epoch 215/250\n",
      "32/32 [==============================] - 0s 3ms/step - loss: 24.4270\n",
      "Epoch 216/250\n",
      "32/32 [==============================] - 0s 2ms/step - loss: 24.9002\n",
      "Epoch 217/250\n",
      "32/32 [==============================] - 0s 3ms/step - loss: 24.7761\n",
      "Epoch 218/250\n",
      "32/32 [==============================] - 0s 3ms/step - loss: 24.5934\n",
      "Epoch 219/250\n",
      "32/32 [==============================] - 0s 3ms/step - loss: 24.5270\n",
      "Epoch 220/250\n",
      "32/32 [==============================] - 0s 2ms/step - loss: 24.4959\n",
      "Epoch 221/250\n",
      "32/32 [==============================] - 0s 3ms/step - loss: 24.3020\n",
      "Epoch 222/250\n",
      "32/32 [==============================] - 0s 3ms/step - loss: 24.4330\n",
      "Epoch 223/250\n",
      "32/32 [==============================] - 0s 3ms/step - loss: 24.4988\n",
      "Epoch 224/250\n",
      "32/32 [==============================] - 0s 3ms/step - loss: 24.8308\n",
      "Epoch 225/250\n",
      "32/32 [==============================] - 0s 2ms/step - loss: 24.5746\n",
      "Epoch 226/250\n",
      "32/32 [==============================] - 0s 2ms/step - loss: 24.5997\n",
      "Epoch 227/250\n",
      "32/32 [==============================] - 0s 3ms/step - loss: 24.2187\n",
      "Epoch 228/250\n",
      "32/32 [==============================] - 0s 2ms/step - loss: 24.7343\n",
      "Epoch 229/250\n",
      "32/32 [==============================] - 0s 3ms/step - loss: 24.6517\n",
      "Epoch 230/250\n",
      "32/32 [==============================] - 0s 3ms/step - loss: 24.6367\n",
      "Epoch 231/250\n",
      "32/32 [==============================] - 0s 3ms/step - loss: 24.6824\n",
      "Epoch 232/250\n",
      "32/32 [==============================] - 0s 3ms/step - loss: 24.5737\n",
      "Epoch 233/250\n",
      "32/32 [==============================] - 0s 3ms/step - loss: 24.5529\n",
      "Epoch 234/250\n",
      "32/32 [==============================] - 0s 3ms/step - loss: 24.5586\n",
      "Epoch 235/250\n",
      "32/32 [==============================] - 0s 2ms/step - loss: 24.5195\n",
      "Epoch 236/250\n",
      "32/32 [==============================] - 0s 3ms/step - loss: 24.7765\n",
      "Epoch 237/250\n",
      "32/32 [==============================] - 0s 3ms/step - loss: 24.4782\n",
      "Epoch 238/250\n",
      "32/32 [==============================] - 0s 3ms/step - loss: 24.6146\n",
      "Epoch 239/250\n",
      "32/32 [==============================] - 0s 3ms/step - loss: 24.4994\n",
      "Epoch 240/250\n",
      "32/32 [==============================] - 0s 3ms/step - loss: 24.4984\n",
      "Epoch 241/250\n",
      "32/32 [==============================] - 0s 3ms/step - loss: 24.5705\n",
      "Epoch 242/250\n",
      "32/32 [==============================] - 0s 3ms/step - loss: 24.3806\n",
      "Epoch 243/250\n",
      "32/32 [==============================] - 0s 3ms/step - loss: 24.7864\n",
      "Epoch 244/250\n",
      "32/32 [==============================] - 0s 3ms/step - loss: 24.6687\n",
      "Epoch 245/250\n",
      "32/32 [==============================] - 0s 2ms/step - loss: 24.9952\n",
      "Epoch 246/250\n",
      "32/32 [==============================] - 0s 2ms/step - loss: 24.4528\n",
      "Epoch 247/250\n",
      "32/32 [==============================] - 0s 2ms/step - loss: 24.7064\n",
      "Epoch 248/250\n",
      "32/32 [==============================] - 0s 2ms/step - loss: 24.6718\n",
      "Epoch 249/250\n",
      "32/32 [==============================] - 0s 2ms/step - loss: 24.5664\n",
      "Epoch 250/250\n",
      "32/32 [==============================] - 0s 2ms/step - loss: 24.7055\n"
     ]
    },
    {
     "data": {
      "text/plain": [
       "<keras.callbacks.History at 0x208937308b0>"
      ]
     },
     "execution_count": 55,
     "metadata": {},
     "output_type": "execute_result"
    }
   ],
   "source": [
    "final_model.fit(x = X_scaled, y = y, batch_size = 32, epochs = 250)\n",
    "\n",
    "#input_dim = 2 or input_dim = X_train.shape[1] yazmamamıza rağmen model.fit kısmında 2 feature olduğunu algoritma anlıyor.\n",
    "# yazmazsak ama fit etmeden model.summary()'i çalıştırdığımızda hata alırız ."
   ]
  },
  {
   "cell_type": "markdown",
   "metadata": {
    "id": "5Ncus4tsYGAT"
   },
   "source": [
    "### Saving a Model"
   ]
  },
  {
   "cell_type": "markdown",
   "metadata": {
    "id": "OkZlNOz_YGAT"
   },
   "source": [
    "You can save a TensorFlow/Keras model using [`model.save()`](https://www.tensorflow.org/tutorials/keras/save_and_load#save_the_entire_model).\n",
    "\n",
    "Keras saves models by inspecting their architectures. This technique saves everything:\n",
    "\n",
    "- The weight values\n",
    "- The model's architecture\n",
    "- The model's training configuration (what you pass to the .compile() method)\n",
    "- The optimizer and its state, if any (this enables you to restart training where you left off)\n",
    "\n",
    "\n",
    "There are two ways to save a model in TensorFlow:\n",
    "1. The [SavedModel format](https://www.tensorflow.org/tutorials/keras/save_and_load#savedmodel_format) (default).\n",
    "2. The [HDF5 format](https://www.tensorflow.org/tutorials/keras/save_and_load#hdf5_format).\n",
    "\n",
    "The main difference between the two is the SavedModel is automatically able to save custom objects (such as special layers) without additional modifications when loading the model back in.\n",
    "\n",
    "The key difference between HDF5 and SavedModel is that HDF5 uses object configs to save the model architecture, while SavedModel saves the execution graph. Thus, SavedModels are able to save custom objects like subclassed models and custom layers without requiring the original code."
   ]
  },
  {
   "cell_type": "code",
   "execution_count": 56,
   "metadata": {
    "id": "aemsr3lnYGAT"
   },
   "outputs": [],
   "source": [
    "final_model.save('model_fake_reg.h5')  # creates a HDF5 file 'my_model.h5'"
   ]
  },
  {
   "cell_type": "code",
   "execution_count": 57,
   "metadata": {
    "id": "foxJ6r9DYGAU"
   },
   "outputs": [],
   "source": [
    "#final_model.save(\"model_fake_reg\") "
   ]
  },
  {
   "cell_type": "markdown",
   "metadata": {
    "id": "_kkX_nYHYGAU"
   },
   "source": [
    "### Loading Model"
   ]
  },
  {
   "cell_type": "code",
   "execution_count": 58,
   "metadata": {
    "id": "79HGbk3lYGAU"
   },
   "outputs": [],
   "source": [
    "from tensorflow.keras.models import load_model"
   ]
  },
  {
   "cell_type": "code",
   "execution_count": 59,
   "metadata": {
    "id": "67XRxNYEYGAU"
   },
   "outputs": [],
   "source": [
    "model_fake_reg = load_model('model_fake_reg.h5')"
   ]
  },
  {
   "cell_type": "code",
   "execution_count": 60,
   "metadata": {
    "id": "QxqZLPXYYGAU"
   },
   "outputs": [],
   "source": [
    "scaler_fake_reg = pickle.load(open(\"scaler_fake_reg\", \"rb\"))"
   ]
  },
  {
   "cell_type": "markdown",
   "metadata": {
    "id": "y-YjBDtXYGAV"
   },
   "source": [
    "## Prediction-1"
   ]
  },
  {
   "cell_type": "code",
   "execution_count": 61,
   "metadata": {
    "id": "BTyJWjnCYGAV"
   },
   "outputs": [],
   "source": [
    "sample = [[998, 1000]]"
   ]
  },
  {
   "cell_type": "code",
   "execution_count": 62,
   "metadata": {
    "id": "VHYkTc51YGAV"
   },
   "outputs": [
    {
     "data": {
      "text/plain": [
       "array([[0.15312457, 0.52980619]])"
      ]
     },
     "execution_count": 62,
     "metadata": {},
     "output_type": "execute_result"
    }
   ],
   "source": [
    "sample_scaled = scaler_fake_reg.transform(sample)\n",
    "sample_scaled"
   ]
  },
  {
   "cell_type": "code",
   "execution_count": 63,
   "metadata": {
    "colab": {
     "base_uri": "https://localhost:8080/"
    },
    "id": "NT9Tyvw2YGAW",
    "outputId": "ea204443-be2f-4089-d3a1-3da281e3a514"
   },
   "outputs": [
    {
     "name": "stdout",
     "output_type": "stream",
     "text": [
      "1/1 [==============================] - 0s 80ms/step\n"
     ]
    },
    {
     "data": {
      "text/plain": [
       "array([[418.99747]], dtype=float32)"
      ]
     },
     "execution_count": 63,
     "metadata": {},
     "output_type": "execute_result"
    }
   ],
   "source": [
    "model_fake_reg.predict(sample_scaled)"
   ]
  },
  {
   "cell_type": "markdown",
   "metadata": {
    "id": "OsxmtZE0YGAW"
   },
   "source": [
    "## Prediction-2"
   ]
  },
  {
   "cell_type": "code",
   "execution_count": 64,
   "metadata": {
    "id": "gMZwzU3_YGAX"
   },
   "outputs": [],
   "source": [
    "my_dict = {\"feature1\": [997, 998, 999, 1000, 1001],\n",
    "           \"feature2\": [1000, 999, 998, 997, 996]}"
   ]
  },
  {
   "cell_type": "code",
   "execution_count": 65,
   "metadata": {
    "colab": {
     "base_uri": "https://localhost:8080/",
     "height": 206
    },
    "id": "_XbY1NOWYGAX",
    "outputId": "3de1df2a-8f7b-4be5-b481-a2f756d0de25"
   },
   "outputs": [
    {
     "data": {
      "text/html": [
       "<div>\n",
       "<style scoped>\n",
       "    .dataframe tbody tr th:only-of-type {\n",
       "        vertical-align: middle;\n",
       "    }\n",
       "\n",
       "    .dataframe tbody tr th {\n",
       "        vertical-align: top;\n",
       "    }\n",
       "\n",
       "    .dataframe thead th {\n",
       "        text-align: right;\n",
       "    }\n",
       "</style>\n",
       "<table border=\"1\" class=\"dataframe\">\n",
       "  <thead>\n",
       "    <tr style=\"text-align: right;\">\n",
       "      <th></th>\n",
       "      <th>feature1</th>\n",
       "      <th>feature2</th>\n",
       "    </tr>\n",
       "  </thead>\n",
       "  <tbody>\n",
       "    <tr>\n",
       "      <th>0</th>\n",
       "      <td>997</td>\n",
       "      <td>1000</td>\n",
       "    </tr>\n",
       "    <tr>\n",
       "      <th>1</th>\n",
       "      <td>998</td>\n",
       "      <td>999</td>\n",
       "    </tr>\n",
       "    <tr>\n",
       "      <th>2</th>\n",
       "      <td>999</td>\n",
       "      <td>998</td>\n",
       "    </tr>\n",
       "    <tr>\n",
       "      <th>3</th>\n",
       "      <td>1000</td>\n",
       "      <td>997</td>\n",
       "    </tr>\n",
       "    <tr>\n",
       "      <th>4</th>\n",
       "      <td>1001</td>\n",
       "      <td>996</td>\n",
       "    </tr>\n",
       "  </tbody>\n",
       "</table>\n",
       "</div>"
      ],
      "text/plain": [
       "   feature1  feature2\n",
       "0       997      1000\n",
       "1       998       999\n",
       "2       999       998\n",
       "3      1000       997\n",
       "4      1001       996"
      ]
     },
     "execution_count": 65,
     "metadata": {},
     "output_type": "execute_result"
    }
   ],
   "source": [
    "sample = pd.DataFrame(my_dict)\n",
    "sample"
   ]
  },
  {
   "cell_type": "code",
   "execution_count": 66,
   "metadata": {
    "colab": {
     "base_uri": "https://localhost:8080/"
    },
    "id": "ag-dSyYwYGAX",
    "outputId": "2986eb02-dff8-490a-ec34-6237e09c5366"
   },
   "outputs": [
    {
     "data": {
      "text/plain": [
       "array([[-0.00948799,  0.52980619],\n",
       "       [ 0.15312457,  0.35345977],\n",
       "       [ 0.31573713,  0.17711336],\n",
       "       [ 0.47834969,  0.00076694],\n",
       "       [ 0.64096225, -0.17557948]])"
      ]
     },
     "execution_count": 66,
     "metadata": {},
     "output_type": "execute_result"
    }
   ],
   "source": [
    "sample_scaled = scaler_fake_reg.transform(sample)\n",
    "sample_scaled"
   ]
  },
  {
   "cell_type": "code",
   "execution_count": 67,
   "metadata": {
    "colab": {
     "base_uri": "https://localhost:8080/"
    },
    "id": "fkgEHtfuYGAX",
    "outputId": "2a78be1b-4b8d-49aa-c6df-b627a5c85e11"
   },
   "outputs": [
    {
     "name": "stdout",
     "output_type": "stream",
     "text": [
      "1/1 [==============================] - 0s 33ms/step\n"
     ]
    },
    {
     "data": {
      "text/plain": [
       "array([[378.87674],\n",
       "       [330.59195],\n",
       "       [282.25607],\n",
       "       [233.9202 ],\n",
       "       [185.58434]], dtype=float32)"
      ]
     },
     "execution_count": 67,
     "metadata": {},
     "output_type": "execute_result"
    }
   ],
   "source": [
    "model_fake_reg.predict(sample_scaled)"
   ]
  },
  {
   "cell_type": "markdown",
   "metadata": {
    "id": "A_JalkGuYGAY"
   },
   "source": [
    "___\n",
    "\n",
    "<p style=\"text-align: center;\"><img src=\"https://docs.google.com/uc?id=1lY0Uj5R04yMY3-ZppPWxqCr5pvBLYPnV\" class=\"img-fluid\" alt=\"CLRSWY\"></p>\n",
    "\n",
    "___"
   ]
  }
 ],
 "metadata": {
  "colab": {
   "provenance": []
  },
  "kernelspec": {
   "display_name": "Python 3 (ipykernel)",
   "language": "python",
   "name": "python3"
  },
  "language_info": {
   "codemirror_mode": {
    "name": "ipython",
    "version": 3
   },
   "file_extension": ".py",
   "mimetype": "text/x-python",
   "name": "python",
   "nbconvert_exporter": "python",
   "pygments_lexer": "ipython3",
   "version": "3.9.12"
  },
  "toc": {
   "base_numbering": 1,
   "nav_menu": {},
   "number_sections": false,
   "sideBar": true,
   "skip_h1_title": false,
   "title_cell": "Table of Contents",
   "title_sidebar": "Contents",
   "toc_cell": false,
   "toc_position": {
    "height": "calc(100% - 180px)",
    "left": "10px",
    "top": "150px",
    "width": "300.099px"
   },
   "toc_section_display": true,
   "toc_window_display": true
  },
  "varInspector": {
   "cols": {
    "lenName": 16,
    "lenType": 16,
    "lenVar": 40
   },
   "kernels_config": {
    "python": {
     "delete_cmd_postfix": "",
     "delete_cmd_prefix": "del ",
     "library": "var_list.py",
     "varRefreshCmd": "print(var_dic_list())"
    },
    "r": {
     "delete_cmd_postfix": ") ",
     "delete_cmd_prefix": "rm(",
     "library": "var_list.r",
     "varRefreshCmd": "cat(var_dic_list()) "
    }
   },
   "types_to_exclude": [
    "module",
    "function",
    "builtin_function_or_method",
    "instance",
    "_Feature"
   ],
   "window_display": false
  }
 },
 "nbformat": 4,
 "nbformat_minor": 1
}
